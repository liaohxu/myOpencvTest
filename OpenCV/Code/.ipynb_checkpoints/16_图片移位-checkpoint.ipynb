{
 "cells": [
  {
   "cell_type": "code",
   "execution_count": 2,
   "metadata": {},
   "outputs": [],
   "source": [
    "# 1，opencv中API实现  2，算法原理， 3，源代码\n",
    "import cv2\n",
    "import numpy as np\n",
    "\n",
    "img = cv2.imread('..\\Images\\m5m.jpg',1)\n",
    "cv2.imshow('src',img)\n",
    "\n",
    "imgInfo = img.shape\n",
    "height = imgInfo[0]\n",
    "widht = imgInfo[1]\n",
    "\n",
    "# 移位矩阵表示【x轴向 右移位 100像素， y轴向 下移位 200像素】\n",
    "matShift = np.float32([[1,0,100],[0,1,200]]) # 2行，3列 --> 1,0 与 0,1 作用是实现 x，y的转化运算， 后面100,200，是具体偏移量\n",
    "\n",
    "# 完成 图片移位，矩阵运算\n",
    "dst = cv2.warpAffine(img,matShift,(widht,height)) # 参数1：图片数据， 参数2：移位矩阵， 参数3：显示图片的宽高\n",
    "cv2.imshow('dst',dst)\n",
    "cv2.waitKey(0)\n",
    "cv2.destroyAllWindows()"
   ]
  },
  {
   "cell_type": "code",
   "execution_count": null,
   "metadata": {},
   "outputs": [],
   "source": [
    "# 分析 np.float32() API实现 原理\n",
    "# [[1,0,100],[0,1,200]] # 2行，3列  -->  拆分成 2*2  与 2*1 两个矩阵\n",
    "# [[1,0],[0,1]] # 2*2 矩阵  -->  A\n",
    "# [[100],[200]] # 2*1 矩阵  -->  B\n",
    "# 输入矩阵【图片宽高】 xy  --> C\n",
    "# 算法：A*C + B = [[1*x + 0*y],[0*x+1*y]] + [[100],[200]] = [[x+100],[y+200]] ===> 相当于  x轴 平移 100， y轴 平移 200\n"
   ]
  }
 ],
 "metadata": {
  "kernelspec": {
   "display_name": "Python 3",
   "language": "python",
   "name": "python3"
  },
  "language_info": {
   "codemirror_mode": {
    "name": "ipython",
    "version": 3
   },
   "file_extension": ".py",
   "mimetype": "text/x-python",
   "name": "python",
   "nbconvert_exporter": "python",
   "pygments_lexer": "ipython3",
   "version": "3.7.4"
  },
  "toc": {
   "base_numbering": 1,
   "nav_menu": {},
   "number_sections": true,
   "sideBar": true,
   "skip_h1_title": false,
   "title_cell": "Table of Contents",
   "title_sidebar": "Contents",
   "toc_cell": false,
   "toc_position": {},
   "toc_section_display": true,
   "toc_window_display": false
  }
 },
 "nbformat": 4,
 "nbformat_minor": 2
}
