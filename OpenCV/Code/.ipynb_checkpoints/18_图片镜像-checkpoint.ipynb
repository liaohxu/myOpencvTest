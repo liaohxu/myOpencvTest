{
 "cells": [
  {
   "cell_type": "code",
   "execution_count": 3,
   "metadata": {},
   "outputs": [],
   "source": [
    "# 需求：实现图片的镜像显示，所使用的方法，其本质就是 修改每个 像素点的 数值\n",
    "# 1，绘制一个足够大的画板\n",
    "# 2，将一副图像分别从前向后，从后向前绘制\n",
    "# 3，绘制 中心分割线\n",
    "# 实现 上下翻转\n",
    "\n",
    "import cv2\n",
    "import numpy as np\n",
    "\n",
    "# 获取图片信息\n",
    "img = cv2.imread(\"..\\Images\\m4m.jpg\",1)\n",
    "cv2.imshow('src',img)\n",
    "imgInfo = img.shape\n",
    "height = imgInfo[0]\n",
    "width = imgInfo[1]\n",
    "deep = imgInfo[2]\n",
    "\n",
    "# 构建一个 2倍 高度，等宽的 维度的 全空矩阵\n",
    "newImgInfo = (height*2,width,deep)\n",
    "dst = np.zeros(newImgInfo,np.uint8) # 相当于 定下了 新图像的 尺寸大小，剩下的就是填充 该图像的 每一个像素点\n",
    "\n",
    "# 通过循环操作，不断填充 每个像素点\n",
    "for i in range(0,height):\n",
    "    for j in range(0,width):\n",
    "        dst[i,j] = img[i,j] # 上半部分 与 原图一样\n",
    "        # x  y = 2*h -y -1\n",
    "        dst[height*2-i-1,j] = img[i,j] # 下半部分 与 原图相反\n",
    "\n",
    "# 绘制水平分割线\n",
    "for i in range(0,width):\n",
    "    dst[height,i] = (0,0,255) # BGR\n",
    "cv2.imshow('dst',dst)\n",
    "cv2.waitKey(0)\n",
    "cv2.destroyAllWindows()"
   ]
  },
  {
   "cell_type": "code",
   "execution_count": 5,
   "metadata": {},
   "outputs": [],
   "source": [
    "# 实现 水平翻转\n",
    "\n",
    "import cv2\n",
    "import numpy as np\n",
    "\n",
    "# 先读取一张图片的信息\n",
    "img = cv2.imread('..\\Images\\m1m.jpg',1)\n",
    "cv2.imshow('myimg',img)\n",
    "imgInfo = img.shape\n",
    "height = imgInfo[0]\n",
    "width = imgInfo[1]\n",
    "deep = imgInfo[2]\n",
    "\n",
    "# 构建新的 全空画布\n",
    "newImgInfo = (height,width*2,deep)\n",
    "dst = np.zeros(newImgInfo,np.uint8)\n",
    "\n",
    "# 通过循环，不断填充每一个像素点\n",
    "for i in range(0,height):\n",
    "    for j in range(0,width):\n",
    "        dst[i,j] = img[i,j]\n",
    "        # x = width*2 -j -1\n",
    "        dst[i,width*2 -j -1] = img[i,j]\n",
    "\n",
    "# 绘制 垂直分割线\n",
    "for i in range(0,height):\n",
    "    dst[i,width] = (0,0,255)\n",
    "cv2.imshow('dst',dst)\n",
    "cv2.waitKey(0)\n",
    "cv2.destroyAllWindows()"
   ]
  },
  {
   "cell_type": "code",
   "execution_count": null,
   "metadata": {},
   "outputs": [],
   "source": []
  }
 ],
 "metadata": {
  "kernelspec": {
   "display_name": "Python 3",
   "language": "python",
   "name": "python3"
  },
  "language_info": {
   "codemirror_mode": {
    "name": "ipython",
    "version": 3
   },
   "file_extension": ".py",
   "mimetype": "text/x-python",
   "name": "python",
   "nbconvert_exporter": "python",
   "pygments_lexer": "ipython3",
   "version": "3.7.4"
  },
  "toc": {
   "base_numbering": 1,
   "nav_menu": {},
   "number_sections": true,
   "sideBar": true,
   "skip_h1_title": false,
   "title_cell": "Table of Contents",
   "title_sidebar": "Contents",
   "toc_cell": false,
   "toc_position": {},
   "toc_section_display": true,
   "toc_window_display": false
  }
 },
 "nbformat": 4,
 "nbformat_minor": 2
}
