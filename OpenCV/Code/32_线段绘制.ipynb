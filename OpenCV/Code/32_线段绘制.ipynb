{
 "cells": [
  {
   "cell_type": "code",
   "execution_count": 7,
   "metadata": {},
   "outputs": [],
   "source": [
    "\"\"\"\n",
    "    需求： 绘制 一条红色的线段\n",
    "    想要绘制 多条线段，直接在 继续调用 line()方法\n",
    "\"\"\"\n",
    "import cv2\n",
    "import numpy as np\n",
    "\n",
    "# 自定义一个 图片的大小和深度【规定图片的维度】\n",
    "newImageInfo = (500,500,3)\n",
    "\n",
    "# 初始化一个 全0矩阵\n",
    "dst = np.zeros(newImageInfo,np.uint8)\n",
    "\n",
    "# 在 全0 矩阵的图片中 绘制 线段\n",
    "cv2.line(dst,(100,100),(400,400),(0,0,255)) # 参数1：目标图片数据， 参数2：线段在图片中起始位置， 参数3：线段在图片中的终止位置， 参数4：线段颜色\n",
    "\n",
    "# 绘制一条 线宽20 的 黄色线段\n",
    "cv2.line(dst,(100,200),(400,200),(0,255,255),20) # 参数5： 表示线条的 宽度\n",
    "\n",
    "# 绘制一条 线条倒角圆滑的线段\n",
    "cv2.line(dst,(100,300),(400,300),(0,255,0),20,cv2.LINE_AA) # 参数6： 设置线条的 类型\n",
    "\n",
    "# 绘制三角形： 思路， 绘制3条线段， 每条线段的起点是 下一条线段的 终点\n",
    "cv2.line(dst,(200,150),(50,250),(25,100,255))\n",
    "cv2.line(dst,(50,250),(400,380),(25,100,255))\n",
    "cv2.line(dst,(400,380),(200,150),(25,100,255))\n",
    "\n",
    "\n",
    "cv2.imshow(\"dst\",dst)\n",
    "cv2.waitKey(0)\n",
    "cv2.destroyAllWindows()\n"
   ]
  },
  {
   "cell_type": "code",
   "execution_count": null,
   "metadata": {},
   "outputs": [],
   "source": []
  }
 ],
 "metadata": {
  "kernelspec": {
   "display_name": "Python 3",
   "language": "python",
   "name": "python3"
  },
  "language_info": {
   "codemirror_mode": {
    "name": "ipython",
    "version": 3
   },
   "file_extension": ".py",
   "mimetype": "text/x-python",
   "name": "python",
   "nbconvert_exporter": "python",
   "pygments_lexer": "ipython3",
   "version": "3.7.4"
  },
  "toc": {
   "base_numbering": 1,
   "nav_menu": {},
   "number_sections": true,
   "sideBar": true,
   "skip_h1_title": false,
   "title_cell": "Table of Contents",
   "title_sidebar": "Contents",
   "toc_cell": false,
   "toc_position": {},
   "toc_section_display": true,
   "toc_window_display": false
  }
 },
 "nbformat": 4,
 "nbformat_minor": 2
}
