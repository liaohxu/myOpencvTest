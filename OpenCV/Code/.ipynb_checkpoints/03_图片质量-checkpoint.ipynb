{
 "cells": [
  {
   "cell_type": "code",
   "execution_count": 2,
   "metadata": {},
   "outputs": [
    {
     "data": {
      "text/plain": [
       "True"
      ]
     },
     "execution_count": 2,
     "metadata": {},
     "output_type": "execute_result"
    }
   ],
   "source": [
    "import cv2\n",
    "img = cv2.imread(\"..\\Images\\m2m.jpg\",1)\n",
    "# 参数1，保存图片名称；参数2，图片数据；参数3，保存图片质量[a,b]--> a表示：jpg压缩格式，b表示压缩参数【0-100】,数值越大，保存效果质量越好\n",
    "# 属于 有损压缩\n",
    "cv2.imwrite(\"..\\Images\\imageTest.jpg\",img,[cv2.IMWRITE_JPEG_QUALITY,70]) "
   ]
  },
  {
   "cell_type": "code",
   "execution_count": null,
   "metadata": {},
   "outputs": [],
   "source": [
    "import cv2\n",
    "img = cv2.imread(\"..\\Images\\m2m.jpg\",1)\n",
    "# 参数1，保存图片名称；参数2，图片数据；参数3，保存图片质量[a,b]--> a表示：png压缩格式，b表示压缩参数【0-9】,数值越大，保存效果质量越差\n",
    "# 属于 无损压缩\n",
    "cv2.imwrite(\"..\\Images\\imageTest.png\",img,[cv2.IMWRITE_PNG_COMPRESSION,0]) "
   ]
  }
 ],
 "metadata": {
  "kernelspec": {
   "display_name": "Python 3",
   "language": "python",
   "name": "python3"
  },
  "language_info": {
   "codemirror_mode": {
    "name": "ipython",
    "version": 3
   },
   "file_extension": ".py",
   "mimetype": "text/x-python",
   "name": "python",
   "nbconvert_exporter": "python",
   "pygments_lexer": "ipython3",
   "version": "3.7.4"
  },
  "toc": {
   "base_numbering": 1,
   "nav_menu": {},
   "number_sections": true,
   "sideBar": true,
   "skip_h1_title": false,
   "title_cell": "Table of Contents",
   "title_sidebar": "Contents",
   "toc_cell": false,
   "toc_position": {},
   "toc_section_display": true,
   "toc_window_display": false
  }
 },
 "nbformat": 4,
 "nbformat_minor": 2
}
