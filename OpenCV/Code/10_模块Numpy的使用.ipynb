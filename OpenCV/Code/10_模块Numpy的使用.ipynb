{
 "cells": [
  {
   "cell_type": "code",
   "execution_count": 12,
   "metadata": {},
   "outputs": [
    {
     "name": "stdout",
     "output_type": "stream",
     "text": [
      "[1 2 3 4 5]\n",
      "[[1 2]\n",
      " [3 4]]\n",
      "(5,) (2, 2)\n",
      "[[0. 0. 0.]\n",
      " [0. 0. 0.]] [[1. 1. 1.]\n",
      " [1. 1. 1.]]\n",
      "[[1 2]\n",
      " [5 4]]\n",
      "4\n",
      "[[2. 2. 2.]\n",
      " [2. 2. 2.]]\n",
      "[[0.33333333 0.33333333 0.33333333]\n",
      " [0.33333333 0.33333333 0.33333333]]\n",
      "[[3. 3. 3.]\n",
      " [3. 3. 3.]]\n",
      "[[2. 3. 4.]\n",
      " [5. 6. 7.]]\n",
      "[[1. 2. 3.]\n",
      " [4. 5. 6.]]\n"
     ]
    }
   ],
   "source": [
    "import numpy as np\n",
    "\n",
    "data1 = np.array([1,2,3,4,5])\n",
    "print(data1)\n",
    "\n",
    "data2 = np.array([[1,2],\n",
    "                  [3,4]])\n",
    "print(data2)\n",
    "\n",
    "#维度\n",
    "print(data1.shape,data2.shape)\n",
    "\n",
    "#zeros ones\n",
    "print(np.zeros([2,3]),np.ones([2,3]))\n",
    "\n",
    "#改查\n",
    "data2[1,0] = 5\n",
    "print(data2)\n",
    "print(data2[1,1])\n",
    "\n",
    "#基本运算\n",
    "data3 = np.ones([2,3])\n",
    "print(data3 * 2)\n",
    "print(data3 / 3)\n",
    "print(data3 + 2)\n",
    "\n",
    "#矩阵+*\n",
    "data4 = np.array([[1,2,3],[4,5,6]])\n",
    "print(data3 + data4) # 对应元素相加\n",
    "print(data3 * data4) # 对应元素相乘"
   ]
  },
  {
   "cell_type": "code",
   "execution_count": null,
   "metadata": {},
   "outputs": [],
   "source": []
  }
 ],
 "metadata": {
  "kernelspec": {
   "display_name": "Python 3",
   "language": "python",
   "name": "python3"
  },
  "language_info": {
   "codemirror_mode": {
    "name": "ipython",
    "version": 3
   },
   "file_extension": ".py",
   "mimetype": "text/x-python",
   "name": "python",
   "nbconvert_exporter": "python",
   "pygments_lexer": "ipython3",
   "version": "3.7.4"
  },
  "toc": {
   "base_numbering": 1,
   "nav_menu": {},
   "number_sections": true,
   "sideBar": true,
   "skip_h1_title": false,
   "title_cell": "Table of Contents",
   "title_sidebar": "Contents",
   "toc_cell": false,
   "toc_position": {},
   "toc_section_display": true,
   "toc_window_display": false
  }
 },
 "nbformat": 4,
 "nbformat_minor": 2
}
