{
 "cells": [
  {
   "cell_type": "code",
   "execution_count": 8,
   "metadata": {},
   "outputs": [
    {
     "name": "stdout",
     "output_type": "stream",
     "text": [
      "Tensor(\"Const_8:0\", shape=(), dtype=float32)\n",
      "<tf.Variable 'var_6:0' shape=() dtype=int32_ref>\n",
      "Tensor(\"Const_9:0\", shape=(), dtype=int32)\n",
      "Tensor(\"Const_10:0\", shape=(), dtype=int32)\n",
      "2.5\n",
      "10\n",
      "3\n",
      "3\n"
     ]
    }
   ],
   "source": [
    "import tensorflow as tf\n",
    "\n",
    "data1 = tf.constant(2.5) # 定义常量\n",
    "data3 = tf.constant(3)\n",
    "data4 = tf.constant(3,dtype=tf.int32)\n",
    "\n",
    "data2 = tf.Variable(10,name=\"var\") # 定义变量\n",
    "\n",
    "print(data1) #Tensor(\"Const:0\", shape=(), dtype=float32)\n",
    "print(data2) #<tf.Variable 'var:0' shape=() dtype=int32_ref>\n",
    "print(data3)\n",
    "print(data4)\n",
    "\n",
    "\n",
    "sess = tf.Session() # 通过 Session()方法 可以输出 具体数据\n",
    "print(sess.run(data1))\n",
    "\n",
    "init = tf.global_variables_initializer() # 变量要经过初始化\n",
    "sess.run(init) # 同样的道理，init也得通过 run()方法\n",
    "print(sess.run(data2)) # 这样的话，就可以输出变量\n",
    "sess.close() # 关闭 sess,也可用 with关键字\n",
    "\n",
    "print(sess.run(data3))\n",
    "print(sess.run(data4))\n",
    "\n",
    "\"\"\"\n",
    "init = tf.global_variables_initializer()\n",
    "sess = tf.Session()\n",
    "with sess:\n",
    "    sess.run(init)\n",
    "    print(sess.run(data2))\n",
    "\"\"\"\n",
    "\n",
    "\n",
    "# 本质： tf = tensor(张量数据) + 计算图\n",
    "# tensor： 数据\n",
    "# op ： 操作\n",
    "# graphs： 数据操作\n",
    "# session： 运算的交互环境\n"
   ]
  },
  {
   "cell_type": "code",
   "execution_count": null,
   "metadata": {},
   "outputs": [],
   "source": []
  }
 ],
 "metadata": {
  "kernelspec": {
   "display_name": "Python 3",
   "language": "python",
   "name": "python3"
  },
  "language_info": {
   "codemirror_mode": {
    "name": "ipython",
    "version": 3
   },
   "file_extension": ".py",
   "mimetype": "text/x-python",
   "name": "python",
   "nbconvert_exporter": "python",
   "pygments_lexer": "ipython3",
   "version": "3.7.4"
  },
  "toc": {
   "base_numbering": 1,
   "nav_menu": {},
   "number_sections": true,
   "sideBar": true,
   "skip_h1_title": false,
   "title_cell": "Table of Contents",
   "title_sidebar": "Contents",
   "toc_cell": false,
   "toc_position": {},
   "toc_section_display": true,
   "toc_window_display": false
  }
 },
 "nbformat": 4,
 "nbformat_minor": 2
}
