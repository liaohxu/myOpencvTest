{
 "cells": [
  {
   "cell_type": "code",
   "execution_count": 4,
   "metadata": {},
   "outputs": [
    {
     "name": "stdout",
     "output_type": "stream",
     "text": [
      "加法运算： 13\n",
      "减法运算： -1\n",
      "乘法运算： 42\n",
      "除法运算： 0.8571428571428571\n"
     ]
    }
   ],
   "source": [
    "\"\"\"常量的 四则运算\"\"\"\n",
    "import tensorflow as tf\n",
    "\n",
    "data1 = tf.constant(6) # 定义常量\n",
    "data2 = tf.constant(7)\n",
    "\n",
    "dataAdd = tf.add(data1,data2) # 加法运算\n",
    "dataSub = tf.subtract(data1,data2) # 减法运算\n",
    "dataMul = tf.multiply(data1,data2) # 乘法运算\n",
    "dataDiv = tf.divide(data1,data2) # 除法运算\n",
    "\n",
    "with tf.Session() as sess:  # 通过 with关键字 \n",
    "    print(\"加法运算：\",sess.run(dataAdd))\n",
    "    print(\"减法运算：\",sess.run(dataSub))\n",
    "    print(\"乘法运算：\",sess.run(dataMul))\n",
    "    print(\"除法运算：\",sess.run(dataDiv))"
   ]
  },
  {
   "cell_type": "code",
   "execution_count": 5,
   "metadata": {},
   "outputs": [
    {
     "name": "stdout",
     "output_type": "stream",
     "text": [
      "加法运算： 8\n",
      "减法运算： 4\n",
      "乘法运算： 12\n",
      "除法运算： 3.0\n"
     ]
    }
   ],
   "source": [
    "\"\"\"变量的 四则运算\"\"\"\n",
    "import tensorflow as tf\n",
    "\n",
    "data1 = tf.constant(6) # 定义常量\n",
    "data2 = tf.Variable(2) # 定义 变量\n",
    "\n",
    "dataAdd = tf.add(data1,data2) # 加法运算\n",
    "dataSub = tf.subtract(data1,data2) # 减法运算\n",
    "dataMul = tf.multiply(data1,data2) # 乘法运算\n",
    "dataDiv = tf.divide(data1,data2) # 除法运算\n",
    "\n",
    "init = tf.global_variables_initializer()\n",
    "with tf.Session() as sess:  # 通过 with关键字 \n",
    "    sess.run(init)\n",
    "    print(\"加法运算：\",sess.run(dataAdd))\n",
    "    print(\"减法运算：\",sess.run(dataSub))\n",
    "    print(\"乘法运算：\",sess.run(dataMul))\n",
    "    print(\"除法运算：\",sess.run(dataDiv))"
   ]
  },
  {
   "cell_type": "code",
   "execution_count": 8,
   "metadata": {},
   "outputs": [
    {
     "name": "stdout",
     "output_type": "stream",
     "text": [
      "加法运算： 8\n",
      "减法运算： 4\n",
      "乘法运算： 12\n",
      "除法运算： 3.0\n",
      "sess.run(dataCopy)数据： 8\n",
      "dataCopy.eval()： 14\n",
      "tf.get_default_sessionl()： 20\n"
     ]
    }
   ],
   "source": [
    "\"\"\"变量的 四则运算\"\"\"\n",
    "import tensorflow as tf\n",
    "\n",
    "data1 = tf.constant(6) # 定义常量\n",
    "data2 = tf.Variable(2) # 定义 变量\n",
    "\n",
    "dataAdd = tf.add(data1,data2) # 加法运算\n",
    "\n",
    "dataCopy = tf.assign(data2,dataAdd) # 将 dataAdd 的结果 赋值给 data2\n",
    "\n",
    "dataSub = tf.subtract(data1,data2) # 减法运算\n",
    "dataMul = tf.multiply(data1,data2) # 乘法运算\n",
    "dataDiv = tf.divide(data1,data2) # 除法运算\n",
    "\n",
    "init = tf.global_variables_initializer()\n",
    "with tf.Session() as sess:  # 通过 with关键字 \n",
    "    sess.run(init)\n",
    "    print(\"加法运算：\",sess.run(dataAdd))\n",
    "    print(\"减法运算：\",sess.run(dataSub))\n",
    "    print(\"乘法运算：\",sess.run(dataMul))\n",
    "    print(\"除法运算：\",sess.run(dataDiv))\n",
    "    \n",
    "    # dataAdd= 8  -->  data2 --> data2= 8\n",
    "    print(\"sess.run(dataCopy)数据：\",sess.run(dataCopy)) #输出 dataCopy 数据，由于把 dataAdd 数据 赋值给 dataCopy,所以与 dataAdd数据相同\n",
    "    # eval() 将 该语句又执行了一遍， data1 = 6  data2 = 8 , dataCopy= 14 --> data2 --> data2= 14\n",
    "    print(\"dataCopy.eval()：\",dataCopy.eval()) # eval()中内部已经获取了一个 默认session，相当于tf.get_default_session()\n",
    "    # 与上面 eval() 效果一样，又执行了一遍, data1 = 6  data2 = 14 , dataCopy= 20 --> data2 --> data2= 20\n",
    "    print(\"tf.get_default_sessionl()：\",tf.get_default_session().run(dataCopy))\n",
    "    \n",
    "# 执行的 两种方式：\n",
    "    # 1， session.run()  需要有 session\n",
    "    # 2,  tensor.eval()  可以获得一个 默认 session"
   ]
  },
  {
   "cell_type": "code",
   "execution_count": null,
   "metadata": {},
   "outputs": [],
   "source": []
  }
 ],
 "metadata": {
  "kernelspec": {
   "display_name": "Python 3",
   "language": "python",
   "name": "python3"
  },
  "language_info": {
   "codemirror_mode": {
    "name": "ipython",
    "version": 3
   },
   "file_extension": ".py",
   "mimetype": "text/x-python",
   "name": "python",
   "nbconvert_exporter": "python",
   "pygments_lexer": "ipython3",
   "version": "3.7.4"
  },
  "toc": {
   "base_numbering": 1,
   "nav_menu": {},
   "number_sections": true,
   "sideBar": true,
   "skip_h1_title": false,
   "title_cell": "Table of Contents",
   "title_sidebar": "Contents",
   "toc_cell": false,
   "toc_position": {},
   "toc_section_display": true,
   "toc_window_display": false
  }
 },
 "nbformat": 4,
 "nbformat_minor": 2
}
