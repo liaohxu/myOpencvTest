{
 "cells": [
  {
   "cell_type": "code",
   "execution_count": 6,
   "metadata": {},
   "outputs": [
    {
     "name": "stdout",
     "output_type": "stream",
     "text": [
      "(489, 800, 3)\n",
      "(100, 200, 3)\n"
     ]
    }
   ],
   "source": [
    "#需求：x轴 100 --> 200\n",
    "#       y轴 100 --> 300\n",
    "\n",
    "import cv2\n",
    "\n",
    "img = cv2.imread(\"..\\Images\\m5m.jpg\",1)\n",
    "imgInfo = img.shape\n",
    "print(imgInfo)\n",
    "\n",
    "# 通过切片的方式，实现 图片的剪切\n",
    "dst = img[300:400,400:600]\n",
    "print(dst.shape)\n",
    "\n",
    "cv2.imshow(\"myimage\",dst)\n",
    "cv2.waitKey(0)\n",
    "cv2.destroyAllWindows()"
   ]
  },
  {
   "cell_type": "code",
   "execution_count": null,
   "metadata": {},
   "outputs": [],
   "source": []
  }
 ],
 "metadata": {
  "kernelspec": {
   "display_name": "Python 3",
   "language": "python",
   "name": "python3"
  },
  "language_info": {
   "codemirror_mode": {
    "name": "ipython",
    "version": 3
   },
   "file_extension": ".py",
   "mimetype": "text/x-python",
   "name": "python",
   "nbconvert_exporter": "python",
   "pygments_lexer": "ipython3",
   "version": "3.7.4"
  },
  "toc": {
   "base_numbering": 1,
   "nav_menu": {},
   "number_sections": true,
   "sideBar": true,
   "skip_h1_title": false,
   "title_cell": "Table of Contents",
   "title_sidebar": "Contents",
   "toc_cell": false,
   "toc_position": {},
   "toc_section_display": true,
   "toc_window_display": false
  }
 },
 "nbformat": 4,
 "nbformat_minor": 2
}
