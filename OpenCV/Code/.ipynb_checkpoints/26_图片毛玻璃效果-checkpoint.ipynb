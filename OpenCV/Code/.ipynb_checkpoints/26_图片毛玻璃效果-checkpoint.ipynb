{
 "cells": [
  {
   "cell_type": "code",
   "execution_count": 2,
   "metadata": {},
   "outputs": [],
   "source": [
    "# 需求：实现毛玻璃： 随机产生 像素点值，替换掉\n",
    "import cv2\n",
    "import numpy as np\n",
    "import random\n",
    "\n",
    "# 读取彩色图片\n",
    "img = cv2.imread(\"..\\Images\\m3m.jpg\",1)\n",
    "imgInfo = img.shape\n",
    "height = imgInfo[0]\n",
    "width = imgInfo[1]\n",
    "\n",
    "# 创建 全空矩阵\n",
    "dst = np.zeros((height,width,3),np.uint8)\n",
    "\n",
    "# 在随机范围内 随机取一个数\n",
    "mm = 8\n",
    "\n",
    "for m in range(0,height-mm):\n",
    "    for n in range(0,width-mm):\n",
    "        index = int(random.random()*8)\n",
    "        (b,g,r) = img[m+index,n+index]\n",
    "        dst[m,n] = (b,g,r)\n",
    "\n",
    "# 显示与关闭窗口\n",
    "cv2.imshow(\"dst\",dst)\n",
    "cv2.waitKey(0)\n",
    "cv2.destroyAllWindows()"
   ]
  },
  {
   "cell_type": "code",
   "execution_count": 6,
   "metadata": {},
   "outputs": [],
   "source": [
    "import cv2\n",
    "import numpy as np\n",
    "import random\n",
    "\n",
    "# 读取彩色图片\n",
    "img = cv2.imread(\"..\\Images\\m3m.jpg\",1)\n",
    "imgInfo = img.shape\n",
    "height = imgInfo[0]\n",
    "width = imgInfo[1]\n",
    "\n",
    "# 创建 全空矩阵\n",
    "dst = np.zeros((height,width,3),np.uint8)\n",
    "\n",
    "\n",
    "for m in range(0,height-1):\n",
    "    for n in range(0,width-1):\n",
    "        index = random.randint(0,1)\n",
    "        (b,g,r) = img[m+index,n+index]\n",
    "        dst[m,n] = (b,g,r)\n",
    "\n",
    "# 显示与关闭窗口\n",
    "cv2.imshow(\"dst\",dst)\n",
    "cv2.waitKey(0)\n",
    "cv2.destroyAllWindows()"
   ]
  },
  {
   "cell_type": "code",
   "execution_count": null,
   "metadata": {},
   "outputs": [],
   "source": []
  }
 ],
 "metadata": {
  "kernelspec": {
   "display_name": "Python 3",
   "language": "python",
   "name": "python3"
  },
  "language_info": {
   "codemirror_mode": {
    "name": "ipython",
    "version": 3
   },
   "file_extension": ".py",
   "mimetype": "text/x-python",
   "name": "python",
   "nbconvert_exporter": "python",
   "pygments_lexer": "ipython3",
   "version": "3.7.4"
  },
  "toc": {
   "base_numbering": 1,
   "nav_menu": {},
   "number_sections": true,
   "sideBar": true,
   "skip_h1_title": false,
   "title_cell": "Table of Contents",
   "title_sidebar": "Contents",
   "toc_cell": false,
   "toc_position": {},
   "toc_section_display": true,
   "toc_window_display": false
  }
 },
 "nbformat": 4,
 "nbformat_minor": 2
}
