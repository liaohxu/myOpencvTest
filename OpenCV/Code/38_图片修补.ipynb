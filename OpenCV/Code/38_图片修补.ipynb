{
 "cells": [
  {
   "cell_type": "code",
   "execution_count": 1,
   "metadata": {},
   "outputs": [],
   "source": [
    "\"\"\"\n",
    "    图片修补,这里通过代码的形式破坏图片\n",
    "\"\"\"\n",
    "import cv2\n",
    "import numpy as np\n",
    "\n",
    "img = cv2.imread(\"..\\Images\\m5m.jpg\",1)\n",
    "for i in range(200,300):\n",
    "    # 水平方向被破坏\n",
    "    img[i,200] = (255,255,255)\n",
    "    img[i,200+1] = (255,255,255)\n",
    "    img[i,200-1] = (255,255,255)\n",
    "\n",
    "for i in range(150,250):\n",
    "    # 垂直方向被破坏\n",
    "    img[250,i] = (255,255,255)\n",
    "    img[250+1,i] = (255,255,255)\n",
    "    img[250-1,i] = (255,255,255)\n",
    "\n",
    "cv2.imwrite(\"..\\Images\\damaged.jpg\",img)\n",
    "cv2.imshow(\"image\",img)\n",
    "cv2.waitKey(0)\n",
    "cv2.destroyAllWindows()\n",
    "\n",
    "\n"
   ]
  },
  {
   "cell_type": "code",
   "execution_count": 3,
   "metadata": {},
   "outputs": [],
   "source": [
    "\"\"\"\n",
    "    进行图片修补 调用 inpaint()方法\n",
    "\"\"\"\n",
    "import cv2\n",
    "import numpy as np\n",
    "\n",
    "img = cv2.imread(\"..\\Images\\damaged.jpg\",1)\n",
    "cv2.imshow(\"src\",img)\n",
    "imgInfo = img.shape\n",
    "height = imgInfo[0]\n",
    "width = imgInfo[1]\n",
    "\n",
    "# 设置一个空矩阵，与 被破坏的位置一致，然后 类似于掩码的作用，将对应位置像素显示出来\n",
    "paint = np.zeros((height,width,1),np.uint8)\n",
    "\n",
    "for i in range(200,300):\n",
    "    # 单通道空矩阵 水平方向设置成 255\n",
    "    paint[i,200] = 255\n",
    "    paint[i,200+1] = 255\n",
    "    paint[i,200-1] = 255\n",
    "\n",
    "for i in range(150,250):\n",
    "    # 单通道空矩阵 垂直方向设置成 255\n",
    "    paint[250,i] = 255\n",
    "    paint[250+1,i] = 255\n",
    "    paint[250-1,i] = 255\n",
    "cv2.imshow(\"paint\",paint)\n",
    "    \n",
    "#进行图片修补 调用 inpaint()方法\n",
    "# 参数1：准备修补的图片， 参数2：用做掩码的对应位置的图片， 参数3：通道数 3，  参数4：调用inpaint_telea方式\n",
    "imgDst = cv2.inpaint(img,paint,3,cv2.INPAINT_TELEA)\n",
    "\n",
    "cv2.imshow(\"image\",imgDst)\n",
    "cv2.waitKey(0)\n",
    "cv2.destroyAllWindows()"
   ]
  },
  {
   "cell_type": "code",
   "execution_count": null,
   "metadata": {},
   "outputs": [],
   "source": []
  }
 ],
 "metadata": {
  "kernelspec": {
   "display_name": "Python 3",
   "language": "python",
   "name": "python3"
  },
  "language_info": {
   "codemirror_mode": {
    "name": "ipython",
    "version": 3
   },
   "file_extension": ".py",
   "mimetype": "text/x-python",
   "name": "python",
   "nbconvert_exporter": "python",
   "pygments_lexer": "ipython3",
   "version": "3.7.4"
  },
  "toc": {
   "base_numbering": 1,
   "nav_menu": {},
   "number_sections": true,
   "sideBar": true,
   "skip_h1_title": false,
   "title_cell": "Table of Contents",
   "title_sidebar": "Contents",
   "toc_cell": false,
   "toc_position": {},
   "toc_section_display": true,
   "toc_window_display": false
  }
 },
 "nbformat": 4,
 "nbformat_minor": 2
}
