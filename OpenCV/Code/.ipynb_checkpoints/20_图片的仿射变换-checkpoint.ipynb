{
 "cells": [
  {
   "cell_type": "code",
   "execution_count": 1,
   "metadata": {},
   "outputs": [],
   "source": [
    "# 实现 图片的 仿射变换【拉伸】\n",
    "import cv2\n",
    "import numpy as np\n",
    "\n",
    "img = cv2.imread(\"..\\Images\\m3m.jpg\",1)\n",
    "cv2.imshow(\"src\",img)\n",
    "imgInfo = img.shape\n",
    "height = imgInfo[0]\n",
    "width = imgInfo[1]\n",
    "\n",
    "# 原图片中的 3个点 --> 映射到 目标图片的 3个点（左上角，左下角，右上角）\n",
    "matSrc = np.float32([[0,0],[0,height-1],[width-1,0]]) # 确定原图 的 三个点\n",
    "matDst = np.float32([[50,50],[300,height-200],[width-300,100]]) # 确定 目标图片 的 三个点\n",
    "\n",
    "#组合， 该方法得到的是一个 矩阵组合\n",
    "matAffine = cv2.getAffineTransform(matSrc,matDst) # 参数1：原图的 三个点矩阵， 参数2：目标图片的 三个点矩阵\n",
    "\n",
    "# 完成 图片移位，矩阵运算\n",
    "dst = cv2.warpAffine(img,matAffine,(width,height))\n",
    "\n",
    "cv2.imshow('dst',dst)\n",
    "cv2.waitKey(0)\n",
    "cv2.destroyAllWindows()"
   ]
  },
  {
   "cell_type": "code",
   "execution_count": null,
   "metadata": {},
   "outputs": [],
   "source": []
  }
 ],
 "metadata": {
  "kernelspec": {
   "display_name": "Python 3",
   "language": "python",
   "name": "python3"
  },
  "language_info": {
   "codemirror_mode": {
    "name": "ipython",
    "version": 3
   },
   "file_extension": ".py",
   "mimetype": "text/x-python",
   "name": "python",
   "nbconvert_exporter": "python",
   "pygments_lexer": "ipython3",
   "version": "3.7.4"
  },
  "toc": {
   "base_numbering": 1,
   "nav_menu": {},
   "number_sections": true,
   "sideBar": true,
   "skip_h1_title": false,
   "title_cell": "Table of Contents",
   "title_sidebar": "Contents",
   "toc_cell": false,
   "toc_position": {},
   "toc_section_display": true,
   "toc_window_display": false
  }
 },
 "nbformat": 4,
 "nbformat_minor": 2
}
