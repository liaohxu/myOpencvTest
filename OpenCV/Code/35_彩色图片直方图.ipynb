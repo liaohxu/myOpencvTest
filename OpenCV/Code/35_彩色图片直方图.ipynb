{
 "cells": [
  {
   "cell_type": "code",
   "execution_count": 12,
   "metadata": {},
   "outputs": [
    {
     "name": "stdout",
     "output_type": "stream",
     "text": [
      "0.0\n",
      "(0, 255)\n",
      "********************\n",
      "8355.0\n",
      "(0, 245)\n",
      "####################\n",
      "0.0\n",
      "(0, 255)\n",
      "********************\n",
      "6779.0\n",
      "(0, 234)\n",
      "####################\n",
      "0.0\n",
      "(0, 255)\n",
      "********************\n",
      "8058.0\n",
      "(0, 230)\n",
      "####################\n"
     ]
    }
   ],
   "source": [
    "\"\"\" 需求： 获取彩色图片的直方图【红 绿 蓝的波形图】\"\"\"\n",
    "\n",
    "import cv2\n",
    "import numpy as np\n",
    "\n",
    "# 定义一个获取 直方图的 方法\n",
    "def imageHist(image,type):\n",
    "    \"\"\"\n",
    "        image: 红，绿，蓝各通道 矩阵 \n",
    "        type: 数值 \n",
    "    \"\"\" \n",
    "    color = (255,255,255) # 先 初始化 设置颜色为 白色\n",
    "    \n",
    "    windowName = \"Gray\" # 初始化 窗口名称 为 Gray\n",
    "    if type == 31:\n",
    "        color = (255,0,0)\n",
    "        windowName = \"B Hist\"\n",
    "    elif type == 32:\n",
    "        color = (0,255,0)\n",
    "        windowName = \"G Hist\"\n",
    "    elif type == 33:\n",
    "        color = (0,0,255)\n",
    "        windowName = \"R Hist\"\n",
    "    \n",
    "    # 计算图片的 直方图\n",
    "    # 参数1：image,图片数据， 参数2：图片通道，这里因为使用的是 B，G，R单通道图，所以用 其索引下标 0\n",
    "    # 参数3：mask 蒙版，用不到所以 None\n",
    "    # 参数4：分为[0,255] 共 256个/份 ，参数5： 每一份的数值分为 [0-255]\n",
    "    hist = cv2.calcHist([image],[0],None,[256],[0.0,255.0])\n",
    "    \n",
    "    # 计算直方图中的 最大值，最小值及 其坐标\n",
    "    minV,maxV,minL,maxL = cv2.minMaxLoc(hist)\n",
    "    print(minV)\n",
    "    print(minL)\n",
    "    print(\"*\"*20)\n",
    "    print(maxV)\n",
    "    print(maxL)\n",
    "    print(\"#\"*20)\n",
    "\n",
    "    \n",
    "    # 初始化一个 全0 矩阵\n",
    "    histImg = np.zeros([256,256,3],np.uint8)\n",
    "    \n",
    "    for h in range(256):\n",
    "        intenNormal = int(hist[h]*256/maxV)\n",
    "        cv2.line(histImg,(h,256),(h,256-intenNormal),color)\n",
    "    cv2.imshow(windowName,histImg)\n",
    "    return histImg\n",
    "\n",
    "# 获取彩色图片 数据\n",
    "img = cv2.imread(\"..\\Images\\m1m.jpg\",1)\n",
    "\n",
    "# 通过split()方法，把彩色图片 分为 B，G, R三个单通道\n",
    "channels = cv2.split(img) #BGR --> B,G,R\n",
    "for i in range(0,3):\n",
    "    imageHist(channels[i],31+i)\n",
    "\n",
    "cv2.waitKey(0)\n",
    "cv2.destroyAllWindows()"
   ]
  },
  {
   "cell_type": "code",
   "execution_count": null,
   "metadata": {},
   "outputs": [],
   "source": []
  }
 ],
 "metadata": {
  "kernelspec": {
   "display_name": "Python 3",
   "language": "python",
   "name": "python3"
  },
  "language_info": {
   "codemirror_mode": {
    "name": "ipython",
    "version": 3
   },
   "file_extension": ".py",
   "mimetype": "text/x-python",
   "name": "python",
   "nbconvert_exporter": "python",
   "pygments_lexer": "ipython3",
   "version": "3.7.4"
  },
  "toc": {
   "base_numbering": 1,
   "nav_menu": {},
   "number_sections": true,
   "sideBar": true,
   "skip_h1_title": false,
   "title_cell": "Table of Contents",
   "title_sidebar": "Contents",
   "toc_cell": false,
   "toc_position": {},
   "toc_section_display": true,
   "toc_window_display": false
  }
 },
 "nbformat": 4,
 "nbformat_minor": 2
}
