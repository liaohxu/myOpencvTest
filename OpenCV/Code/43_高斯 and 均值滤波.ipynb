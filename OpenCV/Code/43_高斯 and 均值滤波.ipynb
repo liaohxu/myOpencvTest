{
 "cells": [
  {
   "cell_type": "code",
   "execution_count": 1,
   "metadata": {},
   "outputs": [],
   "source": [
    "\"\"\"\n",
    "    高斯滤波\n",
    "\"\"\"\n",
    "import cv2\n",
    "import numpy as np\n",
    "\n",
    "img = cv2.imread(\"..\\Images\\m3m.jpg\",1)\n",
    "cv2.imshow(\"src\",img)\n",
    "\n",
    "#高斯滤波  --  变模糊\n",
    "dst = cv2.GaussianBlur(img,(5,5),1.5)\n",
    "cv2.imshow(\"dst\",dst)\n",
    "cv2.waitKey(0)\n",
    "cv2.destroyAllWindows()\n"
   ]
  },
  {
   "cell_type": "code",
   "execution_count": 2,
   "metadata": {},
   "outputs": [],
   "source": [
    "\"\"\"\n",
    "    均值滤波，源码形式展示\n",
    "    6*6 1  [6*6]/36 = mean  - > P\n",
    "\"\"\"\n",
    "import cv2\n",
    "import numpy as np\n",
    "\n",
    "img = cv2.imread(\"..\\Images\\m3m.jpg\",1)\n",
    "cv2.imshow(\"src\",img)\n",
    "\n",
    "imgInfo = img.shape\n",
    "height = imgInfo[0]\n",
    "width = imgInfo[1]\n",
    "\n",
    "dst = np.zeros((height,width,3),np.uint8)\n",
    "for i in range(3,height-3): # 由于下面定义 （-3,3）\n",
    "    for j in range(3,width-3):\n",
    "        sum_b = int(0)\n",
    "        sum_g = int(0)\n",
    "        sum_r = int(0)\n",
    "        for m in range(-3,3): # -3,-2,-1,0,1,2\n",
    "            for n in range(-3,3):\n",
    "                (b,g,r) = img[i+m,j+n]\n",
    "                sum_b += int(b)\n",
    "                sum_g += int(g)\n",
    "                sum_r += int(r)\n",
    "        b = np.uint8(sum_b/36)\n",
    "        g = np.uint8(sum_g/36)\n",
    "        r = np.uint8(sum_r/36)\n",
    "        dst[i,j] = (b,g,r)\n",
    "\n",
    "cv2.imshow(\"dst\",dst)\n",
    "cv2.waitKey(0)\n",
    "cv2.destroyAllWindows()\n"
   ]
  },
  {
   "cell_type": "code",
   "execution_count": null,
   "metadata": {},
   "outputs": [],
   "source": []
  }
 ],
 "metadata": {
  "kernelspec": {
   "display_name": "Python 3",
   "language": "python",
   "name": "python3"
  },
  "language_info": {
   "codemirror_mode": {
    "name": "ipython",
    "version": 3
   },
   "file_extension": ".py",
   "mimetype": "text/x-python",
   "name": "python",
   "nbconvert_exporter": "python",
   "pygments_lexer": "ipython3",
   "version": "3.7.4"
  },
  "toc": {
   "base_numbering": 1,
   "nav_menu": {},
   "number_sections": true,
   "sideBar": true,
   "skip_h1_title": false,
   "title_cell": "Table of Contents",
   "title_sidebar": "Contents",
   "toc_cell": false,
   "toc_position": {},
   "toc_section_display": true,
   "toc_window_display": false
  }
 },
 "nbformat": 4,
 "nbformat_minor": 2
}
