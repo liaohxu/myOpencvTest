{
 "cells": [
  {
   "cell_type": "code",
   "execution_count": 2,
   "metadata": {},
   "outputs": [
    {
     "name": "stdout",
     "output_type": "stream",
     "text": [
      "(489, 800, 3)\n",
      "(244, 400, 3)\n"
     ]
    }
   ],
   "source": [
    "#需求：实现图片的缩放功能\n",
    "#1，导入图片\n",
    "#2，获取图片数据\n",
    "#3，resize实现缩放功能\n",
    "#4，check检查\n",
    "import cv2\n",
    "\n",
    "img = cv2.imread('..\\Images\\m5m.jpg',1)\n",
    "imgInfo = img.shape\n",
    "print(imgInfo)\n",
    "\n",
    "height = imgInfo[0]\n",
    "width = imgInfo[1]\n",
    "mode = imgInfo[2]\n",
    "\n",
    "#1，放大，缩小  2，等比例\n",
    "dstHeight = int(height*0.5)\n",
    "dstWidth = int(width*0.5)\n",
    "\n",
    "#最近临域插值， 双线性插值， 像素关系重采样， 立方插值\n",
    "dst = cv2.resize(img,(dstWidth,dstHeight))\n",
    "print(dst.shape)\n",
    "cv2.imshow('myimage',dst)\n",
    "cv2.waitKey(0)\n",
    "cv2.destroyAllWindows()"
   ]
  },
  {
   "cell_type": "code",
   "execution_count": null,
   "metadata": {},
   "outputs": [],
   "source": [
    "# 需求： 理解 最近临域插值法，与 双线性插值法的原理\n",
    "# 用python语言实现\n",
    "\n",
    "# 最近临域插值法\n",
    "# 1，需求：原图像 src 10*20  --> 缩放dst  5*10\n",
    "# 2，目标图像上的每一个点都来自于 原图像\n",
    "#    比如：（1,2）  <-- 来自于  原图像的 （2,4）\n",
    "# 3，那么 如何找到，并计算每一个点，这有一个计算公式 \n",
    "#    newX = x*(src 行/目标 行) 如： newX = 1*(10/5) = 2  x表示 目标图片上的点， newX  原图片上的点\n",
    "#    newY = y*(src 列/目标 列) 如： newY = 2*(20/10) = 4  y表示 目标图片上的点， newY  原图片上的点\n",
    "# 4，如果算出来是 小数 则取相邻最近的数值  如： 12.3  -->  12\n",
    "\n",
    "# 双线性插值法的原理\n",
    "# 1，需求：原图像 src 10*20  --> 缩放dst  5*10\n",
    "# 2，目标图像上的每一个点都来自于 原图像\n",
    "#    比如：（1,2）  <-- 来自于  原图像的 （2,4）\n",
    "# 井 字排版，可以得到 4个交点，\n",
    "# A1 = 20% 上 + 80% 下  A2\n",
    "# B1 = 30% 左 + 70% 右  B2\n",
    "# 最终点 = A1 20% + A2 80%  或者  最终点 = B1 30% + B2 70%"
   ]
  }
 ],
 "metadata": {
  "kernelspec": {
   "display_name": "Python 3",
   "language": "python",
   "name": "python3"
  },
  "language_info": {
   "codemirror_mode": {
    "name": "ipython",
    "version": 3
   },
   "file_extension": ".py",
   "mimetype": "text/x-python",
   "name": "python",
   "nbconvert_exporter": "python",
   "pygments_lexer": "ipython3",
   "version": "3.7.4"
  },
  "toc": {
   "base_numbering": 1,
   "nav_menu": {},
   "number_sections": true,
   "sideBar": true,
   "skip_h1_title": false,
   "title_cell": "Table of Contents",
   "title_sidebar": "Contents",
   "toc_cell": false,
   "toc_position": {},
   "toc_section_display": true,
   "toc_window_display": false
  }
 },
 "nbformat": 4,
 "nbformat_minor": 2
}
