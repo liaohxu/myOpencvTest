{
 "cells": [
  {
   "cell_type": "code",
   "execution_count": 25,
   "metadata": {},
   "outputs": [],
   "source": [
    "# 需求：实现图片融合[要求：图片尺寸大小相同]\n",
    "# dst = 图片1 * 比例系数 + 图片2 * (1-比例系数)\n",
    "\n",
    "import cv2 \n",
    "import numpy as np\n",
    "\n",
    "img0 = cv2.imread(\"..\\Images\\m3m.jpg\",1)\n",
    "img1 = cv2.imread(\"..\\Images\\m4m.jpg\",1)\n",
    "\n",
    "imgInfo = img0.shape\n",
    "height = imgInfo[0]\n",
    "width = imgInfo[1]\n",
    "\n",
    "#ROI(感兴趣范围)\n",
    "# roiH = int(height/2) # 范围一定要比原图片要小（相等也报错，可以 -1）\n",
    "# roiW = int(width/2) # 范围一定要比原图片要小（相等也报错，可以 -1）\n",
    "roiH = int(height-1) \n",
    "roiW = int(width-1)\n",
    "\n",
    "img0ROI = img0[0:roiH,0:roiW] # 切片的方式 提取图片中感兴趣区域\n",
    "img1ROI = img1[0:roiH,0:roiW] # 切片的方式 提取图片中感兴趣区域\n",
    "\n",
    "#dst（目标图片）\n",
    "dst = np.zeros((roiH,roiW,3),np.uint8)\n",
    "\n",
    "# 该方法 实现的功能： 实现两个权重 相加  dst = 图片1 * 比例系数 + 图片2 * (1-比例系数)\n",
    "# 参数1：图片1数据，参数2：图片1 权重，参数3：图片2数据，参数4：图片2权重，参数5：亮度【-255,255】【暗-亮】\n",
    "dst = cv2.addWeighted(img0ROI,0.7,img1ROI,0.3,0) \n",
    "\n",
    "# 显示与关闭窗口\n",
    "cv2.imshow(\"dst\",dst)\n",
    "cv2.waitKey(0)\n",
    "cv2.destroyAllWindows()"
   ]
  },
  {
   "cell_type": "code",
   "execution_count": null,
   "metadata": {},
   "outputs": [],
   "source": []
  }
 ],
 "metadata": {
  "kernelspec": {
   "display_name": "Python 3",
   "language": "python",
   "name": "python3"
  },
  "language_info": {
   "codemirror_mode": {
    "name": "ipython",
    "version": 3
   },
   "file_extension": ".py",
   "mimetype": "text/x-python",
   "name": "python",
   "nbconvert_exporter": "python",
   "pygments_lexer": "ipython3",
   "version": "3.7.4"
  },
  "toc": {
   "base_numbering": 1,
   "nav_menu": {},
   "number_sections": true,
   "sideBar": true,
   "skip_h1_title": false,
   "title_cell": "Table of Contents",
   "title_sidebar": "Contents",
   "toc_cell": false,
   "toc_position": {},
   "toc_section_display": true,
   "toc_window_display": false
  }
 },
 "nbformat": 4,
 "nbformat_minor": 2
}
