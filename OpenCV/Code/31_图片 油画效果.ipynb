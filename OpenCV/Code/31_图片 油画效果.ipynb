{
 "cells": [
  {
   "cell_type": "code",
   "execution_count": 1,
   "metadata": {},
   "outputs": [],
   "source": [
    "\"\"\"\n",
    "    需求： 实现图片的油画效果\n",
    "    \n",
    "    步骤： 1，灰度转化， 2，分成若干个 7*7  10*10 的小方块， \n",
    "           3，将[0-255]划分为几个等级，比如：分为256个灰度等级， 划分为4段，[0-63],[64-127],[128,192],[193,255]\n",
    "           4，灰度段中 像素的个数统计， 5，根据统计出来的平均值，替换成 目标图片dst\n",
    "\"\"\"\n",
    "import cv2\n",
    "import numpy as np\n",
    "\n",
    "# 读取 彩色图片，获取 图片属性\n",
    "img = cv2.imread(\"..\\Images\\m1m.jpg\",1)\n",
    "cv2.imshow(\"img\",img)\n",
    "imgInfo = img.shape\n",
    "height = imgInfo[0]\n",
    "width = imgInfo[1]\n",
    "\n",
    "# 将彩色图片灰度化\n",
    "gray = cv2.cvtColor(img,cv2.COLOR_BGR2GRAY)\n",
    "\n",
    "# 初始化一个 全0 矩阵，作为目标图片\n",
    "dst = np.zeros((height,width,3),np.uint8)\n",
    "\n",
    "# 通过循环 实现 初始化矩阵填充\n",
    "for i in range(4,height-4):\n",
    "    for j in range(4,width-4):\n",
    "        # 定义 8个灰度等级\n",
    "        array1 = np.zeros(8,np.uint8)\n",
    "        # 定义 8*8 的小方块\n",
    "        for m in range(-4,4): # 因为这里定义是 8*8的方块，约定 [-4,4],所以 最外的两层循环[4,height-4],[4,width-4] \n",
    "            for n in range(-4,4): # 因为这里定义是 8*8的方块，约定 [-4,4],所以 最外的两层循环[4,height-4],[4,width-4]\n",
    "                \n",
    "                # 由于[0-255] 被定义成 8个灰度等级， 所以每个等级内 包含 32 个像素值\n",
    "                p1 = int(gray[i+m,j+n]/32) # 计算具体的每个灰度值 投影在 哪个灰度等级中【灰度段】\n",
    "                array1[p1] = array1[p1] + 1\n",
    "                \n",
    "        # 找出 哪个 灰度段中的 像素最多，并且获取它的下标\n",
    "        currentMax = array1[0] # 假设 第一个段中 像素最多\n",
    "        l = 0 # \n",
    "        for k in range(0,8):\n",
    "            if currentMax < array1[k]:\n",
    "                currentMax = array1[k]\n",
    "                l = k\n",
    "        \n",
    "        # 简化 均值\n",
    "        for m1 in range(-4,4):\n",
    "            for n1 in range(-4,4):\n",
    "                if gray[i+m1,j+n1] >= (l*32) and gray[i+m1,j+n1] <= ((l+1)*32): \n",
    "                    (b,g,r) = img[i+m1,j+n1]\n",
    "        dst[i,j] = (b,g,r)\n",
    "\n",
    "cv2.imshow(\"dst\",dst)\n",
    "cv2.waitKey(0)\n",
    "cv2.destroyAllWindows()"
   ]
  },
  {
   "cell_type": "code",
   "execution_count": null,
   "metadata": {},
   "outputs": [],
   "source": []
  }
 ],
 "metadata": {
  "kernelspec": {
   "display_name": "Python 3",
   "language": "python",
   "name": "python3"
  },
  "language_info": {
   "codemirror_mode": {
    "name": "ipython",
    "version": 3
   },
   "file_extension": ".py",
   "mimetype": "text/x-python",
   "name": "python",
   "nbconvert_exporter": "python",
   "pygments_lexer": "ipython3",
   "version": "3.7.4"
  },
  "toc": {
   "base_numbering": 1,
   "nav_menu": {},
   "number_sections": true,
   "sideBar": true,
   "skip_h1_title": false,
   "title_cell": "Table of Contents",
   "title_sidebar": "Contents",
   "toc_cell": false,
   "toc_position": {},
   "toc_section_display": true,
   "toc_window_display": false
  }
 },
 "nbformat": 4,
 "nbformat_minor": 2
}
