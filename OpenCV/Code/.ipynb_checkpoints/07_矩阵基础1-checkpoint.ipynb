{
 "cells": [
  {
   "cell_type": "code",
   "execution_count": 3,
   "metadata": {},
   "outputs": [
    {
     "name": "stdout",
     "output_type": "stream",
     "text": [
      "8.0\n"
     ]
    }
   ],
   "source": [
    "# placehold\n",
    "import tensorflow as tf\n",
    "\n",
    "data1 = tf.placeholder(tf.float32)  # placeholder占位符，可以用来指定 数据类型\n",
    "data2 = tf.placeholder(tf.float32)\n",
    "\n",
    "dataAdd = tf.add(data1,data2)\n",
    "with tf.Session() as sess:\n",
    "    # 1，dataAdd运算方法， 2，data数据（通过feed_dict={字典}） 2.1 feed_dict={key1:value1,key2:value2,...}\n",
    "    print(sess.run(dataAdd,feed_dict={data1:6,data2:2}))"
   ]
  },
  {
   "cell_type": "code",
   "execution_count": 8,
   "metadata": {},
   "outputs": [
    {
     "name": "stdout",
     "output_type": "stream",
     "text": [
      "(3, 2)\n",
      "[[1 2]\n",
      " [3 4]\n",
      " [5 6]]\n",
      "[1 2]\n",
      "4\n",
      "[1 3 5]\n"
     ]
    }
   ],
   "source": [
    "#类比，数组 M行N列 ，以 [] 来定义\n",
    "import tensorflow as tf\n",
    "\n",
    "data1 = tf.constant([[6,6]])\n",
    "data2 = tf.constant([[2],\n",
    "                    [2]])\n",
    "data3 = tf.constant([[3,3]])\n",
    "data4 = tf.constant([[1,2],\n",
    "                     [3,4],\n",
    "                     [5,6]])\n",
    "print(data4.shape) # 维度\n",
    "with tf.Session() as sess:\n",
    "    print(sess.run(data4))\n",
    "    print(sess.run(data4)[0]) # 打印 第 M 列\n",
    "    print(sess.run(data4)[1,1]) # 打印 第 M 行，第 N 列的数\n",
    "    print(sess.run(data4)[:,0]) # 打印 第 N 列"
   ]
  },
  {
   "cell_type": "code",
   "execution_count": null,
   "metadata": {},
   "outputs": [],
   "source": []
  }
 ],
 "metadata": {
  "kernelspec": {
   "display_name": "Python 3",
   "language": "python",
   "name": "python3"
  },
  "language_info": {
   "codemirror_mode": {
    "name": "ipython",
    "version": 3
   },
   "file_extension": ".py",
   "mimetype": "text/x-python",
   "name": "python",
   "nbconvert_exporter": "python",
   "pygments_lexer": "ipython3",
   "version": "3.7.4"
  },
  "toc": {
   "base_numbering": 1,
   "nav_menu": {},
   "number_sections": true,
   "sideBar": true,
   "skip_h1_title": false,
   "title_cell": "Table of Contents",
   "title_sidebar": "Contents",
   "toc_cell": false,
   "toc_position": {},
   "toc_section_display": true,
   "toc_window_display": false
  }
 },
 "nbformat": 4,
 "nbformat_minor": 2
}
