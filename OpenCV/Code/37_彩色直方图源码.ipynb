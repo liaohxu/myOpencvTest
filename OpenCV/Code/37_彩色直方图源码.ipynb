{
 "cells": [
  {
   "cell_type": "code",
   "execution_count": null,
   "metadata": {},
   "outputs": [],
   "source": [
    "\"\"\"\n",
    "    彩色直方图 源码\n",
    "\"\"\"\n",
    "\n",
    "import cv2\n",
    "import numpy as np\n",
    "import matplotlib.pyplot as plt\n",
    "\n",
    "img = cv2.imread(\"..\\Images\\m1m.jpg\",1)\n",
    "imgInfo = img.shape\n",
    "height = imgInfo[0]\n",
    "width = imgInfo[1]\n",
    "\n",
    "count_b = np.zeros(256,np.float)\n",
    "count_g = np.zeros(256,np.float)\n",
    "count_r = np.zeros(256,np.float)\n",
    "\n",
    "for i in range(0,height):\n",
    "    for j in range(0,width):\n",
    "        (b,g,r) = img[i,j] # 读取图片各像素点\n",
    "        index_b = int(b)\n",
    "        index_g = int(g)\n",
    "        index_r = int(r)\n",
    "        # 各通道的统计\n",
    "        count_b[index_b] = count_b[index_b]+1\n",
    "        count_g[index_g] = count_g[index_g]+1\n",
    "        count_r[index_r] = count_r[index_r]+1    \n",
    "\n",
    "for i in range(0,256):\n",
    "    count_b[i] = count_b[i] / (height*width)\n",
    "    count_g[i] = count_g[i] / (height*width)    \n",
    "    count_r[i] = count_r[i] / (height*width)    \n",
    "\n",
    "x = np.linspace(0,255,256)\n",
    "y1 = count_b\n",
    "plt.figure()\n",
    "plt.bar(x,y1,0.9,alpha=1,color=\"b\")\n",
    "\n",
    "y2 = count_g\n",
    "plt.figure()\n",
    "plt.bar(x,y2,0.9,alpha=1,color=\"g\")\n",
    "\n",
    "y3 = count_r\n",
    "plt.figure()\n",
    "plt.bar(x,y3,0.9,alpha=1,color=\"r\")\n",
    "plt.show()\n",
    "\n",
    "cv2.waitKey(0)\n",
    "cv2.destroyAllWindows()"
   ]
  },
  {
   "cell_type": "code",
   "execution_count": null,
   "metadata": {},
   "outputs": [],
   "source": []
  }
 ],
 "metadata": {
  "kernelspec": {
   "display_name": "Python 3",
   "language": "python",
   "name": "python3"
  },
  "language_info": {
   "codemirror_mode": {
    "name": "ipython",
    "version": 3
   },
   "file_extension": ".py",
   "mimetype": "text/x-python",
   "name": "python",
   "nbconvert_exporter": "python",
   "pygments_lexer": "ipython3",
   "version": "3.7.4"
  },
  "toc": {
   "base_numbering": 1,
   "nav_menu": {},
   "number_sections": true,
   "sideBar": true,
   "skip_h1_title": false,
   "title_cell": "Table of Contents",
   "title_sidebar": "Contents",
   "toc_cell": false,
   "toc_position": {},
   "toc_section_display": true,
   "toc_window_display": false
  }
 },
 "nbformat": 4,
 "nbformat_minor": 2
}
