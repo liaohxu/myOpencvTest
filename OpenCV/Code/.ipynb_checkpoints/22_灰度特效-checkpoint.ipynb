{
 "cells": [
  {
   "cell_type": "code",
   "execution_count": 2,
   "metadata": {},
   "outputs": [
    {
     "name": "stdout",
     "output_type": "stream",
     "text": [
      "(489, 800)\n",
      "(489, 800, 3)\n"
     ]
    }
   ],
   "source": [
    "# 实现图片 的灰度转化\n",
    "\n",
    "import cv2\n",
    "\n",
    "#方法一： 通过 imread\n",
    "img0 = cv2.imread(\"..\\Images\\m2m.jpg\",0) # 0 表示以 灰度的形式读取\n",
    "img1 = cv2.imread(\"..\\Images\\m2m.jpg\",1) # 1 表示以 彩色的形式读取\n",
    "print(img0.shape)\n",
    "print(img1.shape)\n",
    "\n",
    "cv2.imshow(\"src\",img0)\n",
    "cv2.waitKey(0)\n",
    "cv2.destroyAllWindows()"
   ]
  },
  {
   "cell_type": "code",
   "execution_count": 4,
   "metadata": {},
   "outputs": [],
   "source": [
    "import cv2\n",
    "\n",
    "#方法二：通过API cvtColor()\n",
    "img = cv2.imread(\"..\\Images\\m2m.jpg\",1)\n",
    "dst = cv2.cvtColor(img,cv2.COLOR_BGR2GRAY) #颜色空间转换， 参数1：原图像数据， 参数2：转换方式\n",
    "\n",
    "cv2.imshow(\"src\",dst)\n",
    "cv2.waitKey(0)\n",
    "cv2.destroyAllWindows()"
   ]
  },
  {
   "cell_type": "code",
   "execution_count": 7,
   "metadata": {},
   "outputs": [],
   "source": [
    "import cv2\n",
    "import numpy as np\n",
    "\n",
    "#方法三：源码方式, 方法取均值的方式 / 3\n",
    "img = cv2.imread(\"..\\Images\\m2m.jpg\",1)\n",
    "imgInfo = img.shape\n",
    "height = imgInfo[0]\n",
    "width = imgInfo[1]\n",
    "\n",
    "#BGR  R=G=B = gray\n",
    "dst = np.zeros((height,width,3),np.uint8)\n",
    "\n",
    "for i in range(0,height):\n",
    "    for j in range(0,width):\n",
    "        (b,g,r) = img[i,j] # 每个像素点 取出 其 b,g,r三个值\n",
    "        gray = (int(b)+ int(g)+ int(r))/3 # 通过取其 均值，作为 灰度值\n",
    "        dst[i,j] = np.uint8(gray) # 将计算得出的 灰度值 转换为 [0-255]格式的 数组，赋值给 新图片的 每个像素点\n",
    "cv2.imshow(\"src\",dst)\n",
    "cv2.waitKey(0)\n",
    "cv2.destroyAllWindows()"
   ]
  },
  {
   "cell_type": "code",
   "execution_count": 8,
   "metadata": {},
   "outputs": [],
   "source": [
    "import cv2\n",
    "import numpy as np\n",
    "\n",
    "#方法四：源码方式, 公式：gray = r*0.299 + g*0.587 + b*0.114\n",
    "img = cv2.imread(\"..\\Images\\m2m.jpg\",1)\n",
    "imgInfo = img.shape\n",
    "height = imgInfo[0]\n",
    "width = imgInfo[1]\n",
    "\n",
    "# 通过循环 填充每个像素点\n",
    "for i in range(0,height):\n",
    "    for j in range(0,width):\n",
    "        # 提取每个像素点的 b,g,r\n",
    "        (b,g,r) = img[i,j]\n",
    "        b = int(b)\n",
    "        g = int(g)\n",
    "        r = int(r)\n",
    "        # 计算 gray值\n",
    "        gray = r*0.299 + g*0.587 + b*0.114\n",
    "        # 将 gray值 赋值给 新图片的像素点\n",
    "        dst[i,j] = np.uint8(gray)\n",
    "cv2.imshow(\"src\",dst)\n",
    "cv2.waitKey(0)\n",
    "cv2.destroyAllWindows()"
   ]
  },
  {
   "cell_type": "code",
   "execution_count": null,
   "metadata": {},
   "outputs": [],
   "source": []
  }
 ],
 "metadata": {
  "kernelspec": {
   "display_name": "Python 3",
   "language": "python",
   "name": "python3"
  },
  "language_info": {
   "codemirror_mode": {
    "name": "ipython",
    "version": 3
   },
   "file_extension": ".py",
   "mimetype": "text/x-python",
   "name": "python",
   "nbconvert_exporter": "python",
   "pygments_lexer": "ipython3",
   "version": "3.7.4"
  },
  "toc": {
   "base_numbering": 1,
   "nav_menu": {},
   "number_sections": true,
   "sideBar": true,
   "skip_h1_title": false,
   "title_cell": "Table of Contents",
   "title_sidebar": "Contents",
   "toc_cell": false,
   "toc_position": {},
   "toc_section_display": true,
   "toc_window_display": false
  }
 },
 "nbformat": 4,
 "nbformat_minor": 2
}
