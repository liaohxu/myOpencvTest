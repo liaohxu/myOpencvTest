{
 "cells": [
  {
   "cell_type": "code",
   "execution_count": 2,
   "metadata": {},
   "outputs": [],
   "source": [
    "# 需求： 实现图片颜色反转，分为 灰度图像反转【255-当前值】， 彩色图像反转\n",
    "import cv2\n",
    "import numpy as np\n",
    "\n",
    "# 读取彩色图片\n",
    "img = cv2.imread(\"..\\Images\\m3m.jpg\",1)\n",
    "imgInfo = img.shape\n",
    "height = imgInfo[0]\n",
    "width = imgInfo[1]\n",
    "deep = imgInfo[2]\n",
    "\n",
    "# 将彩色图片转换 成 灰度图像\n",
    "gray = cv2.cvtColor(img,cv2.COLOR_BGR2GRAY)\n",
    "\n",
    "# 创建一个 灰度图片 大小的 全空矩阵\n",
    "dst = np.zeros((height,width,1),np.uint8)\n",
    "\n",
    "#通过循环 获取每个像素点的 值， 再用 255 - gray[i,j] 实现 反转\n",
    "for i in range(0,height):\n",
    "    for j in range(0,width):\n",
    "        grayPixel = gray[i,j] # 获取每个 像素点的 值\n",
    "        dst[i,j] = 255 - grayPixel  # 通过 255- 该值，实现反转\n",
    "\n",
    "# 显示与关闭窗口\n",
    "cv2.imshow(\"dst\",dst)\n",
    "cv2.waitKey(0)\n",
    "cv2.destroyAllWindows()"
   ]
  },
  {
   "cell_type": "code",
   "execution_count": 5,
   "metadata": {},
   "outputs": [],
   "source": [
    "# 彩色图片的 反转\n",
    "import cv2\n",
    "import numpy as np\n",
    "\n",
    "# 读取彩色图片\n",
    "img = cv2.imread(\"..\\Images\\m3m.jpg\",1)\n",
    "imgInfo = img.shape\n",
    "height = imgInfo[0]\n",
    "width = imgInfo[1]\n",
    "deep = imgInfo[2]\n",
    "\n",
    "# 创建一个 彩色图片 大小的 全空矩阵\n",
    "dst = np.zeros((height,width,3),np.uint8)\n",
    "\n",
    "#通过循环 获取每个像素点的 值， 再用 255 - img[i,j] 实现 反转\n",
    "for i in range(0,height):\n",
    "    for j in range(0,width):\n",
    "        (b,g,r) = img[i,j] # 获取每个 像素点的 值\n",
    "        dst[i,j] = (255-b,255-g,255-r)  # 通过 255- (b,g,r)，实现反转\n",
    "#         dst[i,j] = 255 - img[i,j]\n",
    "\n",
    "# 显示与关闭窗口\n",
    "cv2.imshow(\"dst\",dst)\n",
    "cv2.waitKey(0)\n",
    "cv2.destroyAllWindows()"
   ]
  },
  {
   "cell_type": "code",
   "execution_count": null,
   "metadata": {},
   "outputs": [],
   "source": []
  }
 ],
 "metadata": {
  "kernelspec": {
   "display_name": "Python 3",
   "language": "python",
   "name": "python3"
  },
  "language_info": {
   "codemirror_mode": {
    "name": "ipython",
    "version": 3
   },
   "file_extension": ".py",
   "mimetype": "text/x-python",
   "name": "python",
   "nbconvert_exporter": "python",
   "pygments_lexer": "ipython3",
   "version": "3.7.4"
  },
  "toc": {
   "base_numbering": 1,
   "nav_menu": {},
   "number_sections": true,
   "sideBar": true,
   "skip_h1_title": false,
   "title_cell": "Table of Contents",
   "title_sidebar": "Contents",
   "toc_cell": false,
   "toc_position": {},
   "toc_section_display": true,
   "toc_window_display": false
  }
 },
 "nbformat": 4,
 "nbformat_minor": 2
}
