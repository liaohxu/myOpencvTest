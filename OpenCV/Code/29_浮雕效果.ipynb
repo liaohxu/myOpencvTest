{
 "cells": [
  {
   "cell_type": "code",
   "execution_count": 6,
   "metadata": {},
   "outputs": [],
   "source": [
    "\"\"\" \n",
    "    需求：实现图片的浮雕效果\n",
    "    \n",
    "    相当于计算 每一行 的 前后两个数 相减，再 加上 150\n",
    "    算法公式： newP = gray0 - gray1 + 150\n",
    "\"\"\"\n",
    "import cv2\n",
    "import numpy as np\n",
    "\n",
    "# 读取 彩色图片，获取 图片属性\n",
    "img = cv2.imread(\"..\\Images\\m1m.jpg\",1)\n",
    "imgInfo = img.shape\n",
    "height = imgInfo[0]\n",
    "width = imgInfo[1]\n",
    "\n",
    "# 将彩色图片转变为 灰度图片\n",
    "gray = cv2.cvtColor(img,cv2.COLOR_BGR2GRAY)\n",
    "\n",
    "# 初始化一个 全 0 的 单通道 的空矩阵\n",
    "dst = np.zeros((height,width,1),np.uint8)\n",
    "\n",
    "# 通过 for 循环填充 空矩阵\n",
    "for i in range(0,height):\n",
    "    for j in range(0,width-1): # 由于 下面 列+1，防止 越界，所以这里 要 -1\n",
    "        gray0 = int(gray[i,j]) #通过 int(), 防止越界【0-255】\n",
    "        gray1 = int(gray[i,j+1]) \n",
    "        \n",
    "        # 相当于计算 每一行 的 前后两个数 相减，再 加上 150\n",
    "        newP = gray0 - gray1 + 150\n",
    "        if newP > 255:\n",
    "            newP = 255\n",
    "        if newP < 0:\n",
    "            newP = 0\n",
    "        dst[i,j] = newP\n",
    "cv2.imshow(\"dst\",dst)\n",
    "cv2.waitKey(0)\n",
    "cv2.destroyAllWindows()"
   ]
  },
  {
   "cell_type": "code",
   "execution_count": null,
   "metadata": {},
   "outputs": [],
   "source": []
  }
 ],
 "metadata": {
  "kernelspec": {
   "display_name": "Python 3",
   "language": "python",
   "name": "python3"
  },
  "language_info": {
   "codemirror_mode": {
    "name": "ipython",
    "version": 3
   },
   "file_extension": ".py",
   "mimetype": "text/x-python",
   "name": "python",
   "nbconvert_exporter": "python",
   "pygments_lexer": "ipython3",
   "version": "3.7.4"
  },
  "toc": {
   "base_numbering": 1,
   "nav_menu": {},
   "number_sections": true,
   "sideBar": true,
   "skip_h1_title": false,
   "title_cell": "Table of Contents",
   "title_sidebar": "Contents",
   "toc_cell": false,
   "toc_position": {},
   "toc_section_display": true,
   "toc_window_display": false
  }
 },
 "nbformat": 4,
 "nbformat_minor": 2
}
