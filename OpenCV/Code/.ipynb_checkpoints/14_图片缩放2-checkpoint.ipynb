{
 "cells": [
  {
   "cell_type": "code",
   "execution_count": 2,
   "metadata": {},
   "outputs": [],
   "source": [
    "# 需求：最近临域插值法 的 代码实现\n",
    "#    newX = x*(src 行/目标 行) 如： newX = 1*(10/5) = 2  x表示 目标图片上的点， newX  原图片上的点\n",
    "#    newY = y*(src 列/目标 列) 如： newY = 2*(20/10) = 4  y表示 目标图片上的点， newY  原图片上的点\n",
    "# 1，获取图片信息info【宽度，高度】  2，创建一个空白模板【与缩放大小相同】 3，计算每个位置的像素值【x,y】\n",
    "import cv2\n",
    "import numpy as np\n",
    "\n",
    "# 获取图片信息 info\n",
    "img = cv2.imread('..\\Images\\m5m.jpg',1)\n",
    "imgInfo = img.shape\n",
    "height = imgInfo[0] # 原图片 的行\n",
    "width = imgInfo[1] # 原图片 的列\n",
    "dstHeight = int(height/2) # 目标图片的 行\n",
    "dstWidth = int(width/2) # 目标图片的 列\n",
    "\n",
    "# 创建一个空白模板【与缩放大小相同】\n",
    "dstImage = np.zeros((dstHeight,dstWidth,3),np.uint8)\n",
    "\n",
    "# 计算每个位置的像素值【x,y】\n",
    "for i in range(0,dstHeight): #行\n",
    "    for j in range(0,dstWidth): # 列\n",
    "        iNew = int(i * (height*1.0/dstHeight)) # newX = x*(src 行/目标 行)\n",
    "        jNew = int(j * (width*1.0/dstWidth)) # newY = y*(src 列/目标 列)\n",
    "        dstImage[i,j] = img[iNew,jNew]\n",
    "cv2.imshow(\"myimage\",dstImage)\n",
    "cv2.waitKey(0)\n",
    "cv2.destroyAllWindows()"
   ]
  },
  {
   "cell_type": "code",
   "execution_count": null,
   "metadata": {},
   "outputs": [],
   "source": []
  }
 ],
 "metadata": {
  "kernelspec": {
   "display_name": "Python 3",
   "language": "python",
   "name": "python3"
  },
  "language_info": {
   "codemirror_mode": {
    "name": "ipython",
    "version": 3
   },
   "file_extension": ".py",
   "mimetype": "text/x-python",
   "name": "python",
   "nbconvert_exporter": "python",
   "pygments_lexer": "ipython3",
   "version": "3.7.4"
  },
  "toc": {
   "base_numbering": 1,
   "nav_menu": {},
   "number_sections": true,
   "sideBar": true,
   "skip_h1_title": false,
   "title_cell": "Table of Contents",
   "title_sidebar": "Contents",
   "toc_cell": false,
   "toc_position": {},
   "toc_section_display": true,
   "toc_window_display": false
  }
 },
 "nbformat": 4,
 "nbformat_minor": 2
}
