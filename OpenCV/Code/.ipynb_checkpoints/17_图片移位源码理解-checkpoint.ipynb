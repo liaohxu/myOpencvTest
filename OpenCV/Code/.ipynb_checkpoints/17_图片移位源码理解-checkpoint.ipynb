{
 "cells": [
  {
   "cell_type": "code",
   "execution_count": 1,
   "metadata": {},
   "outputs": [],
   "source": [
    "# 需求： 源码层面上 实现位移，其本质是 \n",
    "import cv2\n",
    "import numpy as np\n",
    "\n",
    "img = cv2.imread(\"..\\Images\\m4m.jpg\",1)\n",
    "cv2.imshow('src',img)\n",
    "imgInfo = img.shape\n",
    "\n",
    "# 构造一个 相同大小维度的 空矩阵， 参数1：图片维度， 参数2：数据类型\n",
    "dst = np.zeros(img.shape,np.uint8)\n",
    "height = imgInfo[0]\n",
    "widht = imgInfo[1]\n",
    "\n",
    "# 通过循环来 在 空矩阵填充 数值\n",
    "for i in range(0,height-200): # -100 表示： 位移之后100，之后的像素点 就获取不到了\n",
    "    for j in range(0,widht-100): # -100 表示： 位移之后100，之后的像素点 就获取不到了\n",
    "        dst[i+200,j+100] = img[i,j] # 这里则 具体表示 位移方向，并且 具体位移大小 100，要与 上面 -100的数值一致 \n",
    "cv2.imshow('myimg',dst)\n",
    "cv2.waitKey(0)\n",
    "cv2.destroyAllWindows()"
   ]
  },
  {
   "cell_type": "code",
   "execution_count": null,
   "metadata": {},
   "outputs": [],
   "source": []
  }
 ],
 "metadata": {
  "kernelspec": {
   "display_name": "Python 3",
   "language": "python",
   "name": "python3"
  },
  "language_info": {
   "codemirror_mode": {
    "name": "ipython",
    "version": 3
   },
   "file_extension": ".py",
   "mimetype": "text/x-python",
   "name": "python",
   "nbconvert_exporter": "python",
   "pygments_lexer": "ipython3",
   "version": "3.7.4"
  },
  "toc": {
   "base_numbering": 1,
   "nav_menu": {},
   "number_sections": true,
   "sideBar": true,
   "skip_h1_title": false,
   "title_cell": "Table of Contents",
   "title_sidebar": "Contents",
   "toc_cell": false,
   "toc_position": {},
   "toc_section_display": true,
   "toc_window_display": false
  }
 },
 "nbformat": 4,
 "nbformat_minor": 2
}
