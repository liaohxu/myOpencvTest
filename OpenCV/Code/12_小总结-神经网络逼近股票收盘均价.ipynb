{
 "cells": [
  {
   "cell_type": "code",
   "execution_count": 26,
   "metadata": {},
   "outputs": [
    {
     "name": "stdout",
     "output_type": "stream",
     "text": [
      "[ 1.  2.  3.  4.  5.  6.  7.  8.  9. 10. 11. 12. 13. 14. 15.]\n"
     ]
    },
    {
     "data": {
      "image/png": "[encoded data removed]",
      "text/plain": [
       "<Figure size 432x288 with 1 Axes>"
      ]
     },
     "metadata": {
      "needs_background": "light"
     },
     "output_type": "display_data"
    }
   ],
   "source": [
    "import tensorflow as tf\n",
    "import numpy as np\n",
    "import matplotlib.pyplot as plt\n",
    "\n",
    "data = np.linspace(1,15,15)\n",
    "endPrice = np.array([2503.99,2567.12,2560.55,2489.99,2498.98,2559.67,2550.21,2521.00,2512.78,2500.34,2549.23,2530.12,2525.78,2510.10,2533.91])\n",
    "beginPrice = np.array([2403.99,2467.12,2460.55,2589.99,2598.98,2459.67,2450.21,2421.00,2412.78,2400.34,2449.23,2430.12,2425.78,2513.10,2513.91])\n",
    "print(data)\n",
    "\n",
    "plt.figure() #定义绘图\n",
    "for i in range(0,15):\n",
    "    #1，柱状图\n",
    "#     dataOne = np.array([i,i])\n",
    "    dataOne = np.zeros([2]) # dataOne作为 x轴，也必须是 一个数组\n",
    "    dataOne[0] = i\n",
    "    dataOne[1] = i\n",
    "    priceOne = np.zeros([2]) # priceOne作为 y轴，y轴范围[beginPrice,endPrice]\n",
    "    priceOne[0] = beginPrice[i]\n",
    "    priceOne[1] = endPrice[i]\n",
    "    if endPrice[i] > beginPrice[i]:\n",
    "        plt.plot(dataOne,priceOne,'r',lw=8) \n",
    "    else:\n",
    "        plt.plot(dataOne,priceOne,'g',lw=8)\n",
    "plt.show()"
   ]
  },
  {
   "cell_type": "code",
   "execution_count": 16,
   "metadata": {},
   "outputs": [
    {
     "name": "stdout",
     "output_type": "stream",
     "text": [
      "[ 1.  2.  3.  4.  5.  6.  7.  8.  9. 10. 11. 12. 13. 14. 15.]\n"
     ]
    },
    {
     "data": {
      "image/png": "[encoded data removed]",
      "text/plain": [
       "<Figure size 432x288 with 1 Axes>"
      ]
     },
     "metadata": {
      "needs_background": "light"
     },
     "output_type": "display_data"
    }
   ],
   "source": [
    "import tensorflow as tf\n",
    "import numpy as np\n",
    "import matplotlib.pyplot as plt\n",
    "\n",
    "data = np.linspace(1,15,15)\n",
    "endPrice = np.array([2503.99,2567.12,2560.55,2489.99,2498.98,2559.67,2550.21,2521.00,2512.78,2500.34,2549.23,2530.12,2525.78,2510.10,2533.91])\n",
    "beginPrice = np.array([2403.99,2467.12,2460.55,2589.99,2598.98,2459.67,2450.21,2421.00,2412.78,2400.34,2449.23,2430.12,2425.78,2513.10,2513.91])\n",
    "print(data)\n",
    "\n",
    "plt.figure() #定义绘图\n",
    "for i in range(0,15):\n",
    "    #1，柱状图\n",
    "    dataOne = np.zeros([2])\n",
    "    dataOne[0] = i\n",
    "    dataOne[1] = i\n",
    "    priceOne = np.zeros([2])\n",
    "    priceOne[0] = beginPrice[i]\n",
    "    priceOne[1] = endPrice[i]\n",
    "    if endPrice[i] > beginPrice[i]:\n",
    "        plt.plot(dataOne,priceOne,'r',lw=8)\n",
    "    else:\n",
    "        plt.plot(dataOne,priceOne,'g',lw=8)\n",
    "\n",
    "#神经网络分层,及原理\n",
    "# A为 输入层  B为中间层【隐藏层】 C为输出层\n",
    "# A(15*1)*w1(1*10) + b1(1*10) = B(15*10)\n",
    "# B(15*10)*w2(10*1) + b2(15*1) = C(15*1)\n",
    "dataNormal = np.zeros([15,1])\n",
    "priceNormal = np.zeros([15,1])\n",
    "for i in range(0,15):\n",
    "    dataNormal[i,0] = i/14.0\n",
    "    priceNormal[i,0] = endPrice[i]/3000.0\n",
    "x = tf.placeholder(tf.float32,[None,1])\n",
    "y = tf.placeholder(tf.float32,[None,1])\n",
    "\n",
    "# B【隐藏层】\n",
    "w1 = tf.Variable(tf.random_uniform([1,10],0,1))\n",
    "b1 = tf.Variable(tf.zeros([1,10]))\n",
    "wb1 = tf.matmul(x,w1)+b1\n",
    "layer1 = tf.nn.relu(wb1) # 激励函数\n",
    "\n",
    "# C【输出层】\n",
    "w2 = tf.Variable(tf.random_uniform([10,1],0,1))\n",
    "b2 = tf.Variable(tf.zeros([15,1]))\n",
    "wb2 = tf.matmul(layer1,w2)+b2\n",
    "layer2 = tf.nn.relu(wb2)\n",
    "loss = tf.reduce_mean(tf.square(y-layer2)) #y 真实 layer2 计算\n",
    "train_step = tf.train.GradientDescentOptimizer(0.1).minimize(loss)\n",
    "with tf.Session() as sess:\n",
    "    sess.run(tf.global_variables_initializer())\n",
    "    for i in range(0,10000):\n",
    "        sess.run(train_step,feed_dict={x:dataNormal,y:priceNormal})\n",
    "    pred = sess.run(layer2,feed_dict={x:dataNormal}) \n",
    "    predPrice = np.zeros([15,1])\n",
    "    for i in range(0,15):\n",
    "        predPrice[i,0] = (pred*3000)[i,0]\n",
    "    plt.plot(data,predPrice,'b',lw=1)\n",
    "plt.show()\n",
    "    \n",
    "    \n",
    "    \n",
    "    \n",
    "    "
   ]
  },
  {
   "cell_type": "code",
   "execution_count": null,
   "metadata": {},
   "outputs": [],
   "source": []
  }
 ],
 "metadata": {
  "kernelspec": {
   "display_name": "Python 3",
   "language": "python",
   "name": "python3"
  },
  "language_info": {
   "codemirror_mode": {
    "name": "ipython",
    "version": 3
   },
   "file_extension": ".py",
   "mimetype": "text/x-python",
   "name": "python",
   "nbconvert_exporter": "python",
   "pygments_lexer": "ipython3",
   "version": "3.7.4"
  },
  "toc": {
   "base_numbering": 1,
   "nav_menu": {},
   "number_sections": true,
   "sideBar": true,
   "skip_h1_title": false,
   "title_cell": "Table of Contents",
   "title_sidebar": "Contents",
   "toc_cell": false,
   "toc_position": {},
   "toc_section_display": true,
   "toc_window_display": false
  }
 },
 "nbformat": 4,
 "nbformat_minor": 2
}
