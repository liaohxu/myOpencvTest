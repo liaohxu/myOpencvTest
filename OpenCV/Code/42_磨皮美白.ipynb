{
 "cells": [
  {
   "cell_type": "code",
   "execution_count": 4,
   "metadata": {},
   "outputs": [],
   "source": [
    "\"\"\"\n",
    "    简单意义上实现  磨皮美白\n",
    "       双边滤波 算法，有连个内核，一个滤除 噪声， 一个保留 细节[高斯滤波核，距离核]\n",
    "\"\"\"\n",
    "import cv2\n",
    "\n",
    "img = cv2.imread(\"..\\Images\\m3m.jpg\",1)\n",
    "cv2.imshow(\"src\",img)\n",
    "\n",
    "# 直接调用 双边滤波方法，\n",
    "dst = cv2.bilateralFilter(img,15,35,35)\n",
    "\n",
    "cv2.imshow(\"dst\",dst)\n",
    "cv2.waitKey(0)\n",
    "cv2.destroyAllWindows()\n"
   ]
  },
  {
   "cell_type": "code",
   "execution_count": null,
   "metadata": {},
   "outputs": [],
   "source": []
  }
 ],
 "metadata": {
  "kernelspec": {
   "display_name": "Python 3",
   "language": "python",
   "name": "python3"
  },
  "language_info": {
   "codemirror_mode": {
    "name": "ipython",
    "version": 3
   },
   "file_extension": ".py",
   "mimetype": "text/x-python",
   "name": "python",
   "nbconvert_exporter": "python",
   "pygments_lexer": "ipython3",
   "version": "3.7.4"
  },
  "toc": {
   "base_numbering": 1,
   "nav_menu": {},
   "number_sections": true,
   "sideBar": true,
   "skip_h1_title": false,
   "title_cell": "Table of Contents",
   "title_sidebar": "Contents",
   "toc_cell": false,
   "toc_position": {},
   "toc_section_display": true,
   "toc_window_display": false
  }
 },
 "nbformat": 4,
 "nbformat_minor": 2
}
