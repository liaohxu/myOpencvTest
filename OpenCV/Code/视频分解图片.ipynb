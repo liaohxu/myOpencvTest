{
 "cells": [
  {
   "cell_type": "code",
   "execution_count": 20,
   "metadata": {},
   "outputs": [
    {
     "name": "stdout",
     "output_type": "stream",
     "text": [
      "True\n",
      "30.0 608 1080\n",
      "..\\Images\\image1.jpg\n",
      "..\\Images\\image2.jpg\n",
      "..\\Images\\image3.jpg\n",
      "..\\Images\\image4.jpg\n",
      "..\\Images\\image5.jpg\n",
      "..\\Images\\image6.jpg\n",
      "..\\Images\\image7.jpg\n",
      "..\\Images\\image8.jpg\n",
      "..\\Images\\image9.jpg\n",
      "..\\Images\\image10.jpg\n",
      "end!\n"
     ]
    }
   ],
   "source": [
    "# 实现视频分解图片\n",
    "# 1，导入load  2, 获取信息info  3，parse  4，imshow  5,imwrite\n",
    "\n",
    "import cv2\n",
    "\n",
    "# 参数1：视频名， 或者摄像头下标\n",
    "cap = cv2.VideoCapture(r\"..\\Images\\test.mp4\")  #获取一个视频，打开cap\n",
    "isopened = cap.isOpened()  # 判断是否打开\n",
    "print(isopened)\n",
    "\n",
    "fps = cap.get(cv2.CAP_PROP_FPS) # 获取帧频\n",
    "\n",
    "# 把视频 分解成每一帧图片， 获取图片的 宽，高\n",
    "width = int(cap.get(cv2.CAP_PROP_FRAME_WIDTH))\n",
    "height = int(cap.get(cv2.CAP_PROP_FRAME_HEIGHT))\n",
    "print(fps,width,height)\n",
    "\n",
    "i = 0\n",
    "while isopened:\n",
    "    if i == 10:\n",
    "        break\n",
    "    else:\n",
    "        i += 1\n",
    "    (flag,frame) = cap.read() # 读取每一张 flag frame\n",
    "    fileName = \"..\\\\Images\\\\\" + \"image\" + str(i) + \".jpg\"\n",
    "    print(fileName)\n",
    "    if flag == True:\n",
    "        cv2.imwrite(fileName,frame,[cv2.IMWRITE_JPEG_QUALITY,100])\n",
    "print('end!')"
   ]
  },
  {
   "cell_type": "code",
   "execution_count": null,
   "metadata": {},
   "outputs": [],
   "source": []
  }
 ],
 "metadata": {
  "kernelspec": {
   "display_name": "Python 3",
   "language": "python",
   "name": "python3"
  },
  "language_info": {
   "codemirror_mode": {
    "name": "ipython",
    "version": 3
   },
   "file_extension": ".py",
   "mimetype": "text/x-python",
   "name": "python",
   "nbconvert_exporter": "python",
   "pygments_lexer": "ipython3",
   "version": "3.7.4"
  },
  "toc": {
   "base_numbering": 1,
   "nav_menu": {},
   "number_sections": true,
   "sideBar": true,
   "skip_h1_title": false,
   "title_cell": "Table of Contents",
   "title_sidebar": "Contents",
   "toc_cell": false,
   "toc_position": {},
   "toc_section_display": true,
   "toc_window_display": false
  }
 },
 "nbformat": 4,
 "nbformat_minor": 2
}
