{
 "cells": [
  {
   "cell_type": "code",
   "execution_count": 9,
   "metadata": {},
   "outputs": [],
   "source": [
    "\"\"\"\n",
    "    实现：图片上添加文字\n",
    "\"\"\"\n",
    "\n",
    "import cv2\n",
    "import numpy as np\n",
    "\n",
    "img = cv2.imread(\"..\\Images\\m4m.jpg\",1)\n",
    "\n",
    "# 设置 字体类型\n",
    "font = cv2.FONT_HERSHEY_SIMPLEX\n",
    "\n",
    "# 绘制矩形框\n",
    "cv2.rectangle(img,(550,80),(750,400),(0,255,0),3)\n",
    "\n",
    "# 添加 文字\n",
    "# 参数1：目标图片数据， 参数2：文字内容， 参数3：文字坐标\n",
    "# 参数4：字体，参数5：字体大小， 参数6：字体颜色， 参数7：字体粗细， 参数8：线条类型\n",
    "cv2.putText(img,\"this is beauty girl\",(300,400),font,1,(200,100,255),2,cv2.LINE_AA)\n",
    "\n",
    "cv2.imshow(\"src\",img)\n",
    "cv2.waitKey(0)\n",
    "cv2.destroyAllWindows()"
   ]
  },
  {
   "cell_type": "code",
   "execution_count": 10,
   "metadata": {},
   "outputs": [],
   "source": [
    "\"\"\"\n",
    "    实现：图片上绘制 缩放图片\n",
    "\"\"\"\n",
    "\n",
    "import cv2\n",
    "import numpy as np\n",
    "\n",
    "img = cv2.imread(\"..\\Images\\m4m.jpg\",1)\n",
    "# 重新定义宽高\n",
    "height = int(img.shape[0]*0.2)\n",
    "width = int(img.shape[1]*0.2)\n",
    "imgResize = cv2.resize(img,(width,height))\n",
    "\n",
    "\n",
    "# 通过 循环 将缩放图 放在 原图片上\n",
    "for i in range(0,height):\n",
    "    for j in range(0,width):\n",
    "        img[i+200,j+200] = imgResize[i,j]\n",
    "\n",
    "cv2.imshow(\"src\",img)\n",
    "cv2.waitKey(0)\n",
    "cv2.destroyAllWindows()"
   ]
  },
  {
   "cell_type": "code",
   "execution_count": null,
   "metadata": {},
   "outputs": [],
   "source": []
  }
 ],
 "metadata": {
  "kernelspec": {
   "display_name": "Python 3",
   "language": "python",
   "name": "python3"
  },
  "language_info": {
   "codemirror_mode": {
    "name": "ipython",
    "version": 3
   },
   "file_extension": ".py",
   "mimetype": "text/x-python",
   "name": "python",
   "nbconvert_exporter": "python",
   "pygments_lexer": "ipython3",
   "version": "3.7.4"
  },
  "toc": {
   "base_numbering": 1,
   "nav_menu": {},
   "number_sections": true,
   "sideBar": true,
   "skip_h1_title": false,
   "title_cell": "Table of Contents",
   "title_sidebar": "Contents",
   "toc_cell": false,
   "toc_position": {},
   "toc_section_display": true,
   "toc_window_display": false
  }
 },
 "nbformat": 4,
 "nbformat_minor": 2
}
