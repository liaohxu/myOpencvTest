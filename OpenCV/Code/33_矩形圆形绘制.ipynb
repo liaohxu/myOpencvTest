{
 "cells": [
  {
   "cell_type": "code",
   "execution_count": 19,
   "metadata": {},
   "outputs": [
    {
     "name": "stdout",
     "output_type": "stream",
     "text": [
      "(5, 2)\n",
      "(5, 1, 2)\n"
     ]
    }
   ],
   "source": [
    "\"\"\"\n",
    "    需求： 绘制 矩形，圆形\n",
    "    想要绘制 多条线段，直接在 继续调用 line()方法\n",
    "\"\"\"\n",
    "import cv2\n",
    "import numpy as np\n",
    "\n",
    "# 自定义一个 图片的大小和深度【规定图片的维度】\n",
    "newImageInfo = (500,500,3)\n",
    "\n",
    "# 初始化一个 全0矩阵\n",
    "dst = np.zeros(newImageInfo,np.uint8)\n",
    "\n",
    "# 绘制 一个矩形\n",
    "# 参数1：目标图片数据， 参数2：左上角的点坐标， 参数3：右下角的点坐标， 参数4：颜色， \n",
    "# 参数5：表示 是否对矩形框内填充 取值： 全部填充：-1， 0或不写：不填充  如果 > 0 ，代表线条 线条宽度\n",
    "cv2.rectangle(dst,(50,100),(200,300),(255,0,0),20)\n",
    "\n",
    "\n",
    "# 绘制 一个圆形\n",
    "# 参数1：目标图片数据， 参数2：圆心位置坐标， 参数3：圆半径， 参数4：颜色， 参数5： 是否填充fill\n",
    "cv2.circle(dst,(250,250),50,(0,255,0),5)\n",
    "\n",
    "\n",
    "# 绘制一个椭圆（圆弧）\n",
    "# 参数1： 目标图片数据，参数2：椭圆圆心坐标， 参数3：轴长，一个表示长轴，一个表示短轴， 参数4：椭圆偏转角度，\n",
    "# 参数5： 起始角度\n",
    "# 参数6： 终止角度 范围： 180：表只 绘制180的 即一半， 360：表 绘制360度 即全部\n",
    "# 参数7： 颜色， 参数8：是否填充\n",
    "cv2.ellipse(dst,(280,280),(150,100),0,180,360,(255,255,0),0)\n",
    "\n",
    "\n",
    "# 绘制一个任意多边形\n",
    "points = np.array([[150,50],[140,140],[200,170],[250,250],[150,50]])  # 先定义 多边形 的 每个点坐标\n",
    "print(points.shape)\n",
    "points = points.reshape((-1,1,2)) # 转换 矩阵维度\n",
    "print(points.shape)\n",
    "\n",
    "# 绘制 多边形\n",
    "# 参数1：目标图片数据， 参数2：多边形各个点 的矩阵， 参数3：是否闭合， True：表示闭合，形成多边形， False：表示不闭合，则形成 折线\n",
    "# 参数4：颜色， 参数5：是否填充fill\n",
    "cv2.polylines(dst,np.int32([points]),True,(0,255,255),5) \n",
    "\n",
    "cv2.imshow(\"dst\",dst)\n",
    "cv2.waitKey(0)\n",
    "cv2.destroyAllWindows()"
   ]
  },
  {
   "cell_type": "code",
   "execution_count": 25,
   "metadata": {},
   "outputs": [
    {
     "name": "stdout",
     "output_type": "stream",
     "text": [
      "(5, 2)\n",
      "(5, 1, 2)\n",
      "[[[150  50]]\n",
      "\n",
      " [[140 140]]\n",
      "\n",
      " [[200 170]]\n",
      "\n",
      " [[250 250]]\n",
      "\n",
      " [[150 400]]]\n"
     ]
    }
   ],
   "source": [
    "\"\"\" 备注\"\"\"\n",
    "import cv2\n",
    "import numpy as np\n",
    "\n",
    "# 自定义一个 图片的大小和深度【规定图片的维度】\n",
    "newImageInfo = (500,500,3)\n",
    "\n",
    "\n",
    "# 初始化一个 全0矩阵\n",
    "dst = np.zeros(newImageInfo,np.uint8)\n",
    "\n",
    "# 绘制一个任意多边形\n",
    "points = np.array([[150,50],[140,140],[200,170],[250,250],[150,400]],np.int32) # 这里要用 np.int32，不能用np.uint8, 可能由于opencv版本是3.4.*\n",
    "print(points.shape)\n",
    "points = points.reshape((-1,1,2)) # 进行 维度转换 \n",
    "print(points.shape)\n",
    "print(points)\n",
    "# cv2.polylines(dst,np.int32([points]),True,(0,255,255),5)\n",
    "cv2.polylines(dst,[points],True,(0,255,255),2)\n",
    "\n",
    "cv2.imshow(\"dst\",dst)\n",
    "cv2.waitKey(0)\n",
    "cv2.destroyAllWindows()"
   ]
  },
  {
   "cell_type": "code",
   "execution_count": null,
   "metadata": {},
   "outputs": [],
   "source": []
  }
 ],
 "metadata": {
  "kernelspec": {
   "display_name": "Python 3",
   "language": "python",
   "name": "python3"
  },
  "language_info": {
   "codemirror_mode": {
    "name": "ipython",
    "version": 3
   },
   "file_extension": ".py",
   "mimetype": "text/x-python",
   "name": "python",
   "nbconvert_exporter": "python",
   "pygments_lexer": "ipython3",
   "version": "3.7.4"
  },
  "toc": {
   "base_numbering": 1,
   "nav_menu": {},
   "number_sections": true,
   "sideBar": true,
   "skip_h1_title": false,
   "title_cell": "Table of Contents",
   "title_sidebar": "Contents",
   "toc_cell": false,
   "toc_position": {},
   "toc_section_display": true,
   "toc_window_display": false
  }
 },
 "nbformat": 4,
 "nbformat_minor": 2
}
