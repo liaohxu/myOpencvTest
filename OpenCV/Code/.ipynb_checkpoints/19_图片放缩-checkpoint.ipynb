{
 "cells": [
  {
   "cell_type": "code",
   "execution_count": 4,
   "metadata": {},
   "outputs": [],
   "source": [
    "# 需求：实现图片的 缩放功能\n",
    "# 通过 图片位移 公式\n",
    "    # [[A1,A2,B1],[A3,A4,B2]] --> 拆分成两个 矩阵 [[A1,A2],[A3,A4]]  [[B1],[B2]]\n",
    "    # newX = A1 * x + A2 * y + B1\n",
    "    # newY = A3 * x + A4 * y + B2\n",
    "\n",
    "# 缩放：x --> x * 0.5  y --> y * 0.5\n",
    "# 相当于： newX = 0.5 * x\n",
    "    \n",
    "import cv2\n",
    "import numpy as np\n",
    "\n",
    "img = cv2.imread(\"..\\Images\\m3m.jpg\",1)\n",
    "cv2.imshow(\"src\",img)\n",
    "imgInfo = img.shape\n",
    "height = imgInfo[0]\n",
    "width = imgInfo[1]\n",
    "\n",
    "# 缩放矩阵\n",
    "matScale = np.float32([[0.5,0,0],[0,0.5,0]]) # 相当于 把 x,y轴 放缩 0.5倍, 最后的 0,0 表示 位移量 不变[在原来基础上]\n",
    "\n",
    "# 完成 图片移位，矩阵运算\n",
    "dst = cv2.warpAffine(img,matScale,(int(width/2),int(height/2))) # 参数1：图片数据， 参数2：移位矩阵， 参数3：显示图片的宽高\n",
    "cv2.imshow('dst',dst)\n",
    "cv2.waitKey(0)\n",
    "cv2.destroyAllWindows()\n"
   ]
  },
  {
   "cell_type": "code",
   "execution_count": null,
   "metadata": {},
   "outputs": [],
   "source": []
  }
 ],
 "metadata": {
  "kernelspec": {
   "display_name": "Python 3",
   "language": "python",
   "name": "python3"
  },
  "language_info": {
   "codemirror_mode": {
    "name": "ipython",
    "version": 3
   },
   "file_extension": ".py",
   "mimetype": "text/x-python",
   "name": "python",
   "nbconvert_exporter": "python",
   "pygments_lexer": "ipython3",
   "version": "3.7.4"
  },
  "toc": {
   "base_numbering": 1,
   "nav_menu": {},
   "number_sections": true,
   "sideBar": true,
   "skip_h1_title": false,
   "title_cell": "Table of Contents",
   "title_sidebar": "Contents",
   "toc_cell": false,
   "toc_position": {},
   "toc_section_display": true,
   "toc_window_display": false
  }
 },
 "nbformat": 4,
 "nbformat_minor": 2
}
