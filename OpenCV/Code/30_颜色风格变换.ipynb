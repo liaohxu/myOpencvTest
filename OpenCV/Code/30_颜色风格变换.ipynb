{
 "cells": [
  {
   "cell_type": "code",
   "execution_count": 2,
   "metadata": {},
   "outputs": [],
   "source": [
    "\"\"\" \n",
    "    需求：实现图片的颜色风格变换\n",
    "\n",
    "    1，通过 颜色查找表（很大的表） 原始rgb值 ---> 查找表--> 新rgb值，代替原始rgb值 \n",
    "    2，通过 公式 拟合\n",
    "    \n",
    "    本次 想实现 一个简单的 蓝色 变换，  b = b*1.5  g = g*1.3\n",
    "\"\"\"\n",
    "import cv2\n",
    "import numpy as np\n",
    "\n",
    "# 读取 彩色图片，获取 图片属性\n",
    "img = cv2.imread(\"..\\Images\\m1m.jpg\",1)\n",
    "cv2.imshow(\"img\",img)\n",
    "imgInfo = img.shape\n",
    "height = imgInfo[0]\n",
    "width = imgInfo[1]\n",
    "\n",
    "# 初始化一个 全 0 矩阵（3通道）\n",
    "dst = np.zeros((height,width,3),np.uint8)\n",
    "\n",
    "# 通过循环遍历的 方式，实现 b,g通道数值 的增强，并赋值给 初始化全0矩阵\n",
    "for i in range(0,height):\n",
    "    for j in range(0,width):\n",
    "        (b,g,r) = img[i,j]\n",
    "        b = b * 1.5\n",
    "        g = g * 1.3\n",
    "        if b > 255:\n",
    "            b = 255\n",
    "        if g > 255:\n",
    "            g = 255\n",
    "        dst[i,j] = (b,g,r)\n",
    "\n",
    "cv2.imshow(\"dst\",dst)\n",
    "cv2.waitKey(0)\n",
    "cv2.destroyAllWindows()"
   ]
  },
  {
   "cell_type": "code",
   "execution_count": null,
   "metadata": {},
   "outputs": [],
   "source": []
  }
 ],
 "metadata": {
  "kernelspec": {
   "display_name": "Python 3",
   "language": "python",
   "name": "python3"
  },
  "language_info": {
   "codemirror_mode": {
    "name": "ipython",
    "version": 3
   },
   "file_extension": ".py",
   "mimetype": "text/x-python",
   "name": "python",
   "nbconvert_exporter": "python",
   "pygments_lexer": "ipython3",
   "version": "3.7.4"
  },
  "toc": {
   "base_numbering": 1,
   "nav_menu": {},
   "number_sections": true,
   "sideBar": true,
   "skip_h1_title": false,
   "title_cell": "Table of Contents",
   "title_sidebar": "Contents",
   "toc_cell": false,
   "toc_position": {},
   "toc_section_display": true,
   "toc_window_display": false
  }
 },
 "nbformat": 4,
 "nbformat_minor": 2
}
