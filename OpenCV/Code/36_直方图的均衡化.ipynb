{
 "cells": [
  {
   "cell_type": "code",
   "execution_count": 8,
   "metadata": {},
   "outputs": [],
   "source": [
    "\"\"\"\n",
    "    实现灰度图片 直方图的均衡化\n",
    "\"\"\"\n",
    "\n",
    "import cv2\n",
    "import numpy as np\n",
    "\n",
    "img = cv2.imread(\"..\\Images\\m5m.jpg\",1)\n",
    "gray = cv2.cvtColor(img,cv2.COLOR_BGR2GRAY)\n",
    "cv2.imshow(\"src\",gray)\n",
    "\n",
    "# 通过该方法实现 图片均衡化\n",
    "dst = cv2.equalizeHist(gray)\n",
    "cv2.imshow(\"dst\",dst)\n",
    "\n",
    "cv2.waitKey(0)\n",
    "cv2.destroyAllWindows()"
   ]
  },
  {
   "cell_type": "code",
   "execution_count": 10,
   "metadata": {},
   "outputs": [],
   "source": [
    "\"\"\"\n",
    "    实现彩色图片 直方图的均衡化\n",
    "    即：将彩图图片的三通道 分别 通过 equalizeHist() 进行均衡化，再 通过 merge()方法合并\n",
    "\"\"\"\n",
    "\n",
    "import cv2\n",
    "import numpy as np\n",
    "\n",
    "img = cv2.imread(\"..\\Images\\m5m.jpg\",1)\n",
    "cv2.imshow(\"src\",img)\n",
    "\n",
    "(b,g,r) = cv2.split(img)\n",
    "bH = cv2.equalizeHist(b)\n",
    "gH = cv2.equalizeHist(g)\n",
    "rH = cv2.equalizeHist(r)\n",
    "result = cv2.merge((bH,gH,rH)) # 通道合成\n",
    "\n",
    "cv2.imshow(\"dst\",result)\n",
    "\n",
    "cv2.waitKey(0)\n",
    "cv2.destroyAllWindows()"
   ]
  },
  {
   "cell_type": "code",
   "execution_count": 11,
   "metadata": {},
   "outputs": [],
   "source": [
    "\"\"\"\n",
    "    实现 YUV 直方图的均衡化\n",
    "    1，先转换为 YUV图；  2，YUV图也为3通道图，所以通过 split()拆分； 3，取出第一个通道进行 直方图均衡化；\n",
    "    4，再通过 merge()合并； 5，再讲 YUV图 转换为 BGR图，进行展示。即完成了YUV的均衡化\n",
    "\"\"\"\n",
    "\n",
    "import cv2\n",
    "import numpy as np\n",
    "\n",
    "img = cv2.imread(\"..\\Images\\m5m.jpg\",1)\n",
    "imgYUV = cv2.cvtColor(img,cv2.COLOR_BGR2YUV)\n",
    "cv2.imshow(\"src\",img)\n",
    "\n",
    "channelYUV = cv2.split(imgYUV)\n",
    "# 通过该方法实现 图片均衡化\n",
    "channelYUV[0] = cv2.equalizeHist(channelYUV[0])\n",
    "channels = cv2.merge(channelYUV)\n",
    "result = cv2.cvtColor(channels,cv2.COLOR_YUV2BGR)\n",
    "cv2.imshow(\"dst\",result)\n",
    "\n",
    "cv2.waitKey(0)\n",
    "cv2.destroyAllWindows()"
   ]
  },
  {
   "cell_type": "code",
   "execution_count": null,
   "metadata": {},
   "outputs": [],
   "source": []
  }
 ],
 "metadata": {
  "kernelspec": {
   "display_name": "Python 3",
   "language": "python",
   "name": "python3"
  },
  "language_info": {
   "codemirror_mode": {
    "name": "ipython",
    "version": 3
   },
   "file_extension": ".py",
   "mimetype": "text/x-python",
   "name": "python",
   "nbconvert_exporter": "python",
   "pygments_lexer": "ipython3",
   "version": "3.7.4"
  },
  "toc": {
   "base_numbering": 1,
   "nav_menu": {},
   "number_sections": true,
   "sideBar": true,
   "skip_h1_title": false,
   "title_cell": "Table of Contents",
   "title_sidebar": "Contents",
   "toc_cell": false,
   "toc_position": {},
   "toc_section_display": true,
   "toc_window_display": false
  }
 },
 "nbformat": 4,
 "nbformat_minor": 2
}
