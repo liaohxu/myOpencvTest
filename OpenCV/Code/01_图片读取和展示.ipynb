{
 "cells": [
  {
   "cell_type": "code",
   "execution_count": null,
   "metadata": {},
   "outputs": [],
   "source": [
    "# 思路：\n",
    "# 1,导入 opencv2 \n",
    "# 2,调用API\n",
    "# 3,暂停 waitKey()\n",
    "\n",
    "import cv2\n",
    "\n",
    "#读取 文件， 参数1：图片路径名称， 参数2： 1 表示 彩图，0 表示 灰度图\n",
    "img = cv2.imread(\"..\\Images\\m1m.jpg\",1)\n",
    "cv2.imshow(\"img\",img) # 展示 图片， 参数1： 窗口名称， 参数2： 图片数据\n",
    "cv2.waitKey(0) # 图片暂停， 暂停才能显示，要不 图片一闪就关了。 参数： 0表示 按键盘任意 键 关闭， 如果是1000 表示 过 1000ms自动关闭"
   ]
  },
  {
   "cell_type": "code",
   "execution_count": null,
   "metadata": {},
   "outputs": [],
   "source": []
  }
 ],
 "metadata": {
  "kernelspec": {
   "display_name": "Python 3",
   "language": "python",
   "name": "python3"
  },
  "language_info": {
   "codemirror_mode": {
    "name": "ipython",
    "version": 3
   },
   "file_extension": ".py",
   "mimetype": "text/x-python",
   "name": "python",
   "nbconvert_exporter": "python",
   "pygments_lexer": "ipython3",
   "version": "3.7.4"
  },
  "toc": {
   "base_numbering": 1,
   "nav_menu": {},
   "number_sections": true,
   "sideBar": true,
   "skip_h1_title": false,
   "title_cell": "Table of Contents",
   "title_sidebar": "Contents",
   "toc_cell": false,
   "toc_position": {},
   "toc_section_display": true,
   "toc_window_display": false
  }
 },
 "nbformat": 4,
 "nbformat_minor": 2
}
