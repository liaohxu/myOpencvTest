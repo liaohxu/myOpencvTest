{
 "cells": [
  {
   "cell_type": "code",
   "execution_count": 2,
   "metadata": {},
   "outputs": [],
   "source": [
    "# 需求： 实现图片马赛克  行：100:300， 列：100:200\n",
    "# 马赛克的实现原理： 将原图中 10*10的像素集合 统一用一种颜色替换掉\n",
    "import cv2\n",
    "import numpy as np\n",
    "\n",
    "# 读取彩色图片\n",
    "img = cv2.imread(\"..\\Images\\m3m.jpg\",1)\n",
    "imgInfo = img.shape\n",
    "height = imgInfo[0]\n",
    "width = imgInfo[1]\n",
    "\n",
    "# 通过循环 实现 像素点的填充\n",
    "for m in range(100,300): # 遍历 马赛克矩形框中的每一个 像素点\n",
    "    for n in range(100,200):  # 遍历 马赛克矩形框中的每一个 像素点\n",
    "        # 规定 马赛克矩形框中 每个的元素大小 10*10【相当于 将10*10大小内的 像素点统一成 一种颜色】\n",
    "        if m%10 == 0 and n%10 == 0: # 获取 10*10 大小的 框\n",
    "            for i in range(0,10): # 遍历 10* 10 大小框\n",
    "                for j in range(0,10):\n",
    "                    (b,g,r) = img[m,n]\n",
    "                    img[i+m,j+n] = (b,g,r) # 将 每个10* 10 大小框中的 每个像素点 统一成一种颜色\n",
    "# 显示与关闭窗口\n",
    "cv2.imshow(\"dst\",img)\n",
    "cv2.waitKey(0)\n",
    "cv2.destroyAllWindows()"
   ]
  },
  {
   "cell_type": "code",
   "execution_count": 3,
   "metadata": {},
   "outputs": [],
   "source": [
    "# 练习： 实现马赛克： 100:200,200:400  8*8\n",
    "\n",
    "import cv2\n",
    "import numpy as np\n",
    "\n",
    "# 读取彩色图片\n",
    "img = cv2.imread(\"..\\Images\\m3m.jpg\",1)\n",
    "imgInfo = img.shape\n",
    "height = imgInfo[0]\n",
    "width = imgInfo[1]\n",
    "\n",
    "for m in range(100,200):\n",
    "    for n in range(200,400):\n",
    "        # 确定 8*8 大小的 框，并实现 每个8*8大小的框内的 像素点统一\n",
    "        if m % 8 == 0 and n % 8 == 0:\n",
    "            for i in range(0,8):\n",
    "                for j in range(0,8):\n",
    "                    (b,g,r) = img[m,n]\n",
    "                    img[i+m,j+n] = (b,g,r)\n",
    "\n",
    "# 显示与关闭窗口\n",
    "cv2.imshow(\"dst\",img)\n",
    "cv2.waitKey(0)\n",
    "cv2.destroyAllWindows()        "
   ]
  },
  {
   "cell_type": "code",
   "execution_count": null,
   "metadata": {},
   "outputs": [],
   "source": []
  }
 ],
 "metadata": {
  "kernelspec": {
   "display_name": "Python 3",
   "language": "python",
   "name": "python3"
  },
  "language_info": {
   "codemirror_mode": {
    "name": "ipython",
    "version": 3
   },
   "file_extension": ".py",
   "mimetype": "text/x-python",
   "name": "python",
   "nbconvert_exporter": "python",
   "pygments_lexer": "ipython3",
   "version": "3.7.4"
  },
  "toc": {
   "base_numbering": 1,
   "nav_menu": {},
   "number_sections": true,
   "sideBar": true,
   "skip_h1_title": false,
   "title_cell": "Table of Contents",
   "title_sidebar": "Contents",
   "toc_cell": false,
   "toc_position": {},
   "toc_section_display": true,
   "toc_window_display": false
  }
 },
 "nbformat": 4,
 "nbformat_minor": 2
}
